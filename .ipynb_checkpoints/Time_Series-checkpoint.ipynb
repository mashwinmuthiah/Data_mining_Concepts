{
 "cells": [
  {
   "cell_type": "code",
   "execution_count": 1,
   "metadata": {},
   "outputs": [],
   "source": [
    "import pandas as pd\n",
    "import numpy as np"
   ]
  },
  {
   "cell_type": "code",
   "execution_count": 2,
   "metadata": {},
   "outputs": [],
   "source": [
    "from datetime import datetime"
   ]
  },
  {
   "cell_type": "code",
   "execution_count": 3,
   "metadata": {},
   "outputs": [
    {
     "name": "stdout",
     "output_type": "stream",
     "text": [
      "2019-03-27 14:11:00.650134\n"
     ]
    }
   ],
   "source": [
    "now = datetime.now()\n",
    "print(now)"
   ]
  },
  {
   "cell_type": "code",
   "execution_count": 4,
   "metadata": {},
   "outputs": [
    {
     "data": {
      "text/plain": [
       "27"
      ]
     },
     "execution_count": 4,
     "metadata": {},
     "output_type": "execute_result"
    }
   ],
   "source": [
    "datetime.now().day"
   ]
  },
  {
   "cell_type": "code",
   "execution_count": 5,
   "metadata": {},
   "outputs": [
    {
     "name": "stdout",
     "output_type": "stream",
     "text": [
      "2019-03-27 14:11:00.703449\n"
     ]
    }
   ],
   "source": [
    "now1 = datetime.now()\n",
    "print(now1)"
   ]
  },
  {
   "cell_type": "code",
   "execution_count": 6,
   "metadata": {},
   "outputs": [
    {
     "name": "stdout",
     "output_type": "stream",
     "text": [
      "0:00:00.053315\n"
     ]
    }
   ],
   "source": [
    "print(now1 - now)"
   ]
  },
  {
   "cell_type": "code",
   "execution_count": 7,
   "metadata": {},
   "outputs": [],
   "source": [
    "from datetime import timedelta"
   ]
  },
  {
   "cell_type": "code",
   "execution_count": 8,
   "metadata": {},
   "outputs": [
    {
     "name": "stdout",
     "output_type": "stream",
     "text": [
      "2019-03-27 14:11:00.747868\n"
     ]
    }
   ],
   "source": [
    "now = datetime.now()\n",
    "print(now)"
   ]
  },
  {
   "cell_type": "code",
   "execution_count": 9,
   "metadata": {},
   "outputs": [
    {
     "name": "stdout",
     "output_type": "stream",
     "text": [
      "2019-03-29 15:11:00.747868\n"
     ]
    }
   ],
   "source": [
    "now1 = now + timedelta(hours = 1,days = 2)\n",
    "print(now1)"
   ]
  },
  {
   "cell_type": "code",
   "execution_count": 10,
   "metadata": {},
   "outputs": [
    {
     "name": "stdout",
     "output_type": "stream",
     "text": [
      "2019-03-27 14:11:00.773388\n"
     ]
    }
   ],
   "source": [
    "now = datetime.now()\n",
    "print(now)"
   ]
  },
  {
   "cell_type": "code",
   "execution_count": 11,
   "metadata": {},
   "outputs": [
    {
     "data": {
      "text/plain": [
       "'2019-03-27 14:11:00.773388'"
      ]
     },
     "execution_count": 11,
     "metadata": {},
     "output_type": "execute_result"
    }
   ],
   "source": [
    "str(now)"
   ]
  },
  {
   "cell_type": "code",
   "execution_count": 12,
   "metadata": {},
   "outputs": [
    {
     "data": {
      "text/plain": [
       "'2019-03-27'"
      ]
     },
     "execution_count": 12,
     "metadata": {},
     "output_type": "execute_result"
    }
   ],
   "source": [
    "a = datetime.strftime(now,'%F')\n",
    "a"
   ]
  },
  {
   "cell_type": "code",
   "execution_count": 13,
   "metadata": {},
   "outputs": [
    {
     "name": "stdout",
     "output_type": "stream",
     "text": [
      "2019-03-27 00:00:00\n"
     ]
    }
   ],
   "source": [
    "b = datetime.strptime(a,'%Y-%m-%d')\n",
    "print(b)"
   ]
  },
  {
   "cell_type": "code",
   "execution_count": 14,
   "metadata": {},
   "outputs": [
    {
     "name": "stdout",
     "output_type": "stream",
     "text": [
      "2011-06-07 00:00:00\n",
      "2011-06-08 00:00:00\n"
     ]
    },
    {
     "data": {
      "text/plain": [
       "[None, None]"
      ]
     },
     "execution_count": 14,
     "metadata": {},
     "output_type": "execute_result"
    }
   ],
   "source": [
    "datestrs = ['7/6/2011', '8/6/2011']\n",
    "[print(datetime.strptime(i,'%d/%m/%Y')) for i in datestrs]"
   ]
  },
  {
   "cell_type": "code",
   "execution_count": 15,
   "metadata": {},
   "outputs": [],
   "source": [
    "from dateutil import parser"
   ]
  },
  {
   "cell_type": "code",
   "execution_count": 16,
   "metadata": {},
   "outputs": [
    {
     "data": {
      "text/plain": [
       "datetime.datetime(2010, 1, 31, 0, 0)"
      ]
     },
     "execution_count": 16,
     "metadata": {},
     "output_type": "execute_result"
    }
   ],
   "source": [
    "parser.parse('2010-jan-31',dayfirst=True)"
   ]
  },
  {
   "cell_type": "code",
   "execution_count": 17,
   "metadata": {},
   "outputs": [],
   "source": [
    "idx = pd.to_datetime(datestrs)"
   ]
  },
  {
   "cell_type": "code",
   "execution_count": 18,
   "metadata": {},
   "outputs": [
    {
     "name": "stdout",
     "output_type": "stream",
     "text": [
      "DatetimeIndex(['2011-07-06', '2011-08-06'], dtype='datetime64[ns]', freq=None)\n"
     ]
    }
   ],
   "source": [
    "print(idx)"
   ]
  },
  {
   "cell_type": "code",
   "execution_count": 19,
   "metadata": {},
   "outputs": [],
   "source": [
    "dates = [datetime(2011, 1, 2), datetime(2011, 1, 5),\n",
    "   ....:          datetime(2011, 1, 7), datetime(2011, 1, 8),\n",
    "   ....:          datetime(2011, 1, 10), datetime(2011, 1, 12)]\n"
   ]
  },
  {
   "cell_type": "code",
   "execution_count": 20,
   "metadata": {},
   "outputs": [
    {
     "data": {
      "text/plain": [
       "2011-01-02    0.322993\n",
       "2011-01-05    0.484826\n",
       "2011-01-07    0.295374\n",
       "2011-01-08    0.189876\n",
       "2011-01-10    0.565364\n",
       "2011-01-12    0.506326\n",
       "dtype: float64"
      ]
     },
     "execution_count": 20,
     "metadata": {},
     "output_type": "execute_result"
    }
   ],
   "source": [
    "a = pd.Series(np.random.rand(6),index=dates)\n",
    "a"
   ]
  },
  {
   "cell_type": "code",
   "execution_count": 21,
   "metadata": {},
   "outputs": [
    {
     "data": {
      "text/plain": [
       "DatetimeIndex(['2011-01-02', '2011-01-05', '2011-01-07', '2011-01-08',\n",
       "               '2011-01-10', '2011-01-12'],\n",
       "              dtype='datetime64[ns]', freq=None)"
      ]
     },
     "execution_count": 21,
     "metadata": {},
     "output_type": "execute_result"
    }
   ],
   "source": [
    "a.index"
   ]
  },
  {
   "cell_type": "code",
   "execution_count": 22,
   "metadata": {},
   "outputs": [
    {
     "data": {
      "text/plain": [
       "2011-01-02    0.645986\n",
       "2011-01-05         NaN\n",
       "2011-01-07    0.590749\n",
       "2011-01-08         NaN\n",
       "2011-01-10    1.130728\n",
       "2011-01-12         NaN\n",
       "dtype: float64"
      ]
     },
     "execution_count": 22,
     "metadata": {},
     "output_type": "execute_result"
    }
   ],
   "source": [
    "a + a[::2]"
   ]
  },
  {
   "cell_type": "code",
   "execution_count": 23,
   "metadata": {},
   "outputs": [
    {
     "data": {
      "text/plain": [
       "2011-01-02    0.322993\n",
       "2011-01-05    0.484826\n",
       "2011-01-07    0.295374\n",
       "2011-01-08    0.189876\n",
       "2011-01-10    0.565364\n",
       "2011-01-12    0.506326\n",
       "dtype: float64"
      ]
     },
     "execution_count": 23,
     "metadata": {},
     "output_type": "execute_result"
    }
   ],
   "source": [
    "a"
   ]
  },
  {
   "cell_type": "code",
   "execution_count": 24,
   "metadata": {},
   "outputs": [
    {
     "data": {
      "text/plain": [
       "0.32299297742073585"
      ]
     },
     "execution_count": 24,
     "metadata": {},
     "output_type": "execute_result"
    }
   ],
   "source": [
    "ts = a.index[0]\n",
    "a[ts]"
   ]
  },
  {
   "cell_type": "code",
   "execution_count": 25,
   "metadata": {},
   "outputs": [
    {
     "data": {
      "text/plain": [
       "0.5653639693241415"
      ]
     },
     "execution_count": 25,
     "metadata": {},
     "output_type": "execute_result"
    }
   ],
   "source": [
    "a['1/10/2011']"
   ]
  },
  {
   "cell_type": "code",
   "execution_count": 26,
   "metadata": {},
   "outputs": [
    {
     "data": {
      "text/plain": [
       "0.5653639693241415"
      ]
     },
     "execution_count": 26,
     "metadata": {},
     "output_type": "execute_result"
    }
   ],
   "source": [
    "a['20110110']"
   ]
  },
  {
   "cell_type": "code",
   "execution_count": 27,
   "metadata": {},
   "outputs": [],
   "source": [
    "ts_longer = pd.Series(np.random.rand(1000),index=pd.date_range(datetime.now(),periods=1000))"
   ]
  },
  {
   "cell_type": "code",
   "execution_count": 28,
   "metadata": {},
   "outputs": [
    {
     "data": {
      "text/plain": [
       "2020-03-03 14:11:01.105575    0.324988\n",
       "2020-03-04 14:11:01.105575    0.202285\n",
       "2020-03-05 14:11:01.105575    0.046591\n",
       "2020-03-06 14:11:01.105575    0.240438\n",
       "2020-03-07 14:11:01.105575    0.947040\n",
       "Freq: D, dtype: float64"
      ]
     },
     "execution_count": 28,
     "metadata": {},
     "output_type": "execute_result"
    }
   ],
   "source": [
    "ts_longer[datetime(2020,3,3):].head()"
   ]
  },
  {
   "cell_type": "code",
   "execution_count": 29,
   "metadata": {},
   "outputs": [
    {
     "data": {
      "text/plain": [
       "2019-03-27 14:11:01.105575    0.136465\n",
       "Freq: D, dtype: float64"
      ]
     },
     "execution_count": 29,
     "metadata": {},
     "output_type": "execute_result"
    }
   ],
   "source": [
    "ts_longer['2019-03-27']"
   ]
  },
  {
   "cell_type": "code",
   "execution_count": 30,
   "metadata": {},
   "outputs": [
    {
     "data": {
      "text/html": [
       "<div>\n",
       "<style scoped>\n",
       "    .dataframe tbody tr th:only-of-type {\n",
       "        vertical-align: middle;\n",
       "    }\n",
       "\n",
       "    .dataframe tbody tr th {\n",
       "        vertical-align: top;\n",
       "    }\n",
       "\n",
       "    .dataframe thead th {\n",
       "        text-align: right;\n",
       "    }\n",
       "</style>\n",
       "<table border=\"1\" class=\"dataframe\">\n",
       "  <thead>\n",
       "    <tr style=\"text-align: right;\">\n",
       "      <th></th>\n",
       "      <th>Colorado</th>\n",
       "      <th>Texas</th>\n",
       "      <th>New York</th>\n",
       "      <th>Ohio</th>\n",
       "    </tr>\n",
       "  </thead>\n",
       "  <tbody>\n",
       "    <tr>\n",
       "      <th>2000-01-05</th>\n",
       "      <td>0.641167</td>\n",
       "      <td>0.163894</td>\n",
       "      <td>-0.986674</td>\n",
       "      <td>-0.069041</td>\n",
       "    </tr>\n",
       "    <tr>\n",
       "      <th>2000-01-12</th>\n",
       "      <td>-1.249534</td>\n",
       "      <td>-1.085723</td>\n",
       "      <td>0.827216</td>\n",
       "      <td>-0.536546</td>\n",
       "    </tr>\n",
       "    <tr>\n",
       "      <th>2000-01-19</th>\n",
       "      <td>-0.457968</td>\n",
       "      <td>-0.183089</td>\n",
       "      <td>0.133200</td>\n",
       "      <td>-0.972784</td>\n",
       "    </tr>\n",
       "    <tr>\n",
       "      <th>2000-01-26</th>\n",
       "      <td>-0.095201</td>\n",
       "      <td>0.504056</td>\n",
       "      <td>0.795916</td>\n",
       "      <td>2.949415</td>\n",
       "    </tr>\n",
       "    <tr>\n",
       "      <th>2000-02-02</th>\n",
       "      <td>-0.555551</td>\n",
       "      <td>0.284030</td>\n",
       "      <td>1.507343</td>\n",
       "      <td>-0.558170</td>\n",
       "    </tr>\n",
       "  </tbody>\n",
       "</table>\n",
       "</div>"
      ],
      "text/plain": [
       "            Colorado     Texas  New York      Ohio\n",
       "2000-01-05  0.641167  0.163894 -0.986674 -0.069041\n",
       "2000-01-12 -1.249534 -1.085723  0.827216 -0.536546\n",
       "2000-01-19 -0.457968 -0.183089  0.133200 -0.972784\n",
       "2000-01-26 -0.095201  0.504056  0.795916  2.949415\n",
       "2000-02-02 -0.555551  0.284030  1.507343 -0.558170"
      ]
     },
     "execution_count": 30,
     "metadata": {},
     "output_type": "execute_result"
    }
   ],
   "source": [
    "dates = pd.date_range('1/1/2000', periods=100, freq='W-WED')\n",
    "long_df = pd.DataFrame(np.random.randn(100,4),index=dates,columns=['Colorado', 'Texas','New York', 'Ohio'])\n",
    "long_df.head()"
   ]
  },
  {
   "cell_type": "code",
   "execution_count": 31,
   "metadata": {},
   "outputs": [],
   "source": [
    "dates = pd.DatetimeIndex(['1/1/2000', '1/2/2000', '1/2/2000','1/2/2000', '1/3/2000'])"
   ]
  },
  {
   "cell_type": "code",
   "execution_count": 32,
   "metadata": {},
   "outputs": [
    {
     "data": {
      "text/plain": [
       "2000-01-01    0\n",
       "2000-01-02    1\n",
       "2000-01-02    2\n",
       "2000-01-02    3\n",
       "2000-01-03    4\n",
       "dtype: int32"
      ]
     },
     "execution_count": 32,
     "metadata": {},
     "output_type": "execute_result"
    }
   ],
   "source": [
    "dup_ts = pd.Series(np.arange(5), index=dates)\n",
    "dup_ts"
   ]
  },
  {
   "cell_type": "code",
   "execution_count": 33,
   "metadata": {},
   "outputs": [
    {
     "data": {
      "text/plain": [
       "False"
      ]
     },
     "execution_count": 33,
     "metadata": {},
     "output_type": "execute_result"
    }
   ],
   "source": [
    "dup_ts.index.is_unique"
   ]
  },
  {
   "cell_type": "code",
   "execution_count": 34,
   "metadata": {},
   "outputs": [
    {
     "data": {
      "text/plain": [
       "4"
      ]
     },
     "execution_count": 34,
     "metadata": {},
     "output_type": "execute_result"
    }
   ],
   "source": [
    "dup_ts['1/3/2000']"
   ]
  },
  {
   "cell_type": "code",
   "execution_count": 35,
   "metadata": {},
   "outputs": [
    {
     "data": {
      "text/plain": [
       "2000-01-02    1\n",
       "2000-01-02    2\n",
       "2000-01-02    3\n",
       "dtype: int32"
      ]
     },
     "execution_count": 35,
     "metadata": {},
     "output_type": "execute_result"
    }
   ],
   "source": [
    "dup_ts['1/2/2000']"
   ]
  },
  {
   "cell_type": "code",
   "execution_count": 36,
   "metadata": {},
   "outputs": [],
   "source": [
    "grouped = dup_ts.groupby(dup_ts.index)"
   ]
  },
  {
   "cell_type": "code",
   "execution_count": 37,
   "metadata": {},
   "outputs": [
    {
     "data": {
      "text/plain": [
       "2000-01-01    1\n",
       "2000-01-02    3\n",
       "2000-01-03    1\n",
       "dtype: int64"
      ]
     },
     "execution_count": 37,
     "metadata": {},
     "output_type": "execute_result"
    }
   ],
   "source": [
    "grouped.count()"
   ]
  },
  {
   "cell_type": "code",
   "execution_count": 38,
   "metadata": {},
   "outputs": [],
   "source": [
    "resampler = a.resample('D')"
   ]
  },
  {
   "cell_type": "code",
   "execution_count": 39,
   "metadata": {},
   "outputs": [
    {
     "data": {
      "text/plain": [
       "2011-01-02    1\n",
       "2011-01-03    0\n",
       "2011-01-04    0\n",
       "2011-01-05    1\n",
       "2011-01-06    0\n",
       "2011-01-07    1\n",
       "2011-01-08    1\n",
       "2011-01-09    0\n",
       "2011-01-10    1\n",
       "2011-01-11    0\n",
       "2011-01-12    1\n",
       "Freq: D, dtype: int64"
      ]
     },
     "execution_count": 39,
     "metadata": {},
     "output_type": "execute_result"
    }
   ],
   "source": [
    "resampler.count()"
   ]
  },
  {
   "cell_type": "code",
   "execution_count": 40,
   "metadata": {},
   "outputs": [
    {
     "data": {
      "text/plain": [
       "DatetimeIndex(['2012-05-02', '2012-05-03', '2012-05-04', '2012-05-05',\n",
       "               '2012-05-06'],\n",
       "              dtype='datetime64[ns]', freq='D')"
      ]
     },
     "execution_count": 40,
     "metadata": {},
     "output_type": "execute_result"
    }
   ],
   "source": [
    "pd.date_range('2012-05-02 12:56:31', periods=5, normalize=True)"
   ]
  },
  {
   "cell_type": "code",
   "execution_count": 41,
   "metadata": {},
   "outputs": [
    {
     "data": {
      "text/plain": [
       "DatetimeIndex(['2000-01-01 00:00:00', '2000-01-01 01:20:00',\n",
       "               '2000-01-01 02:40:00', '2000-01-01 04:00:00',\n",
       "               '2000-01-01 05:20:00', '2000-01-01 06:40:00',\n",
       "               '2000-01-01 08:00:00', '2000-01-01 09:20:00',\n",
       "               '2000-01-01 10:40:00', '2000-01-01 12:00:00',\n",
       "               '2000-01-01 13:20:00', '2000-01-01 14:40:00',\n",
       "               '2000-01-01 16:00:00', '2000-01-01 17:20:00',\n",
       "               '2000-01-01 18:40:00', '2000-01-01 20:00:00',\n",
       "               '2000-01-01 21:20:00', '2000-01-01 22:40:00',\n",
       "               '2000-01-02 00:00:00', '2000-01-02 01:20:00',\n",
       "               '2000-01-02 02:40:00', '2000-01-02 04:00:00',\n",
       "               '2000-01-02 05:20:00', '2000-01-02 06:40:00',\n",
       "               '2000-01-02 08:00:00', '2000-01-02 09:20:00',\n",
       "               '2000-01-02 10:40:00', '2000-01-02 12:00:00',\n",
       "               '2000-01-02 13:20:00', '2000-01-02 14:40:00',\n",
       "               '2000-01-02 16:00:00', '2000-01-02 17:20:00',\n",
       "               '2000-01-02 18:40:00', '2000-01-02 20:00:00',\n",
       "               '2000-01-02 21:20:00', '2000-01-02 22:40:00',\n",
       "               '2000-01-03 00:00:00', '2000-01-03 01:20:00',\n",
       "               '2000-01-03 02:40:00', '2000-01-03 04:00:00',\n",
       "               '2000-01-03 05:20:00', '2000-01-03 06:40:00',\n",
       "               '2000-01-03 08:00:00', '2000-01-03 09:20:00',\n",
       "               '2000-01-03 10:40:00', '2000-01-03 12:00:00',\n",
       "               '2000-01-03 13:20:00', '2000-01-03 14:40:00',\n",
       "               '2000-01-03 16:00:00', '2000-01-03 17:20:00',\n",
       "               '2000-01-03 18:40:00', '2000-01-03 20:00:00',\n",
       "               '2000-01-03 21:20:00', '2000-01-03 22:40:00'],\n",
       "              dtype='datetime64[ns]', freq='80T')"
      ]
     },
     "execution_count": 41,
     "metadata": {},
     "output_type": "execute_result"
    }
   ],
   "source": [
    "pd.date_range('2000-01-01', '2000-01-03 23:59', freq='1h20min')"
   ]
  },
  {
   "cell_type": "code",
   "execution_count": 42,
   "metadata": {},
   "outputs": [
    {
     "data": {
      "text/plain": [
       "[Timestamp('2012-01-06 00:00:00', freq='W-FRI'),\n",
       " Timestamp('2012-01-13 00:00:00', freq='W-FRI'),\n",
       " Timestamp('2012-01-20 00:00:00', freq='W-FRI'),\n",
       " Timestamp('2012-01-27 00:00:00', freq='W-FRI'),\n",
       " Timestamp('2012-02-03 00:00:00', freq='W-FRI'),\n",
       " Timestamp('2012-02-10 00:00:00', freq='W-FRI'),\n",
       " Timestamp('2012-02-17 00:00:00', freq='W-FRI'),\n",
       " Timestamp('2012-02-24 00:00:00', freq='W-FRI'),\n",
       " Timestamp('2012-03-02 00:00:00', freq='W-FRI'),\n",
       " Timestamp('2012-03-09 00:00:00', freq='W-FRI'),\n",
       " Timestamp('2012-03-16 00:00:00', freq='W-FRI'),\n",
       " Timestamp('2012-03-23 00:00:00', freq='W-FRI'),\n",
       " Timestamp('2012-03-30 00:00:00', freq='W-FRI'),\n",
       " Timestamp('2012-04-06 00:00:00', freq='W-FRI'),\n",
       " Timestamp('2012-04-13 00:00:00', freq='W-FRI'),\n",
       " Timestamp('2012-04-20 00:00:00', freq='W-FRI'),\n",
       " Timestamp('2012-04-27 00:00:00', freq='W-FRI'),\n",
       " Timestamp('2012-05-04 00:00:00', freq='W-FRI'),\n",
       " Timestamp('2012-05-11 00:00:00', freq='W-FRI'),\n",
       " Timestamp('2012-05-18 00:00:00', freq='W-FRI'),\n",
       " Timestamp('2012-05-25 00:00:00', freq='W-FRI'),\n",
       " Timestamp('2012-06-01 00:00:00', freq='W-FRI'),\n",
       " Timestamp('2012-06-08 00:00:00', freq='W-FRI'),\n",
       " Timestamp('2012-06-15 00:00:00', freq='W-FRI'),\n",
       " Timestamp('2012-06-22 00:00:00', freq='W-FRI'),\n",
       " Timestamp('2012-06-29 00:00:00', freq='W-FRI'),\n",
       " Timestamp('2012-07-06 00:00:00', freq='W-FRI'),\n",
       " Timestamp('2012-07-13 00:00:00', freq='W-FRI'),\n",
       " Timestamp('2012-07-20 00:00:00', freq='W-FRI'),\n",
       " Timestamp('2012-07-27 00:00:00', freq='W-FRI'),\n",
       " Timestamp('2012-08-03 00:00:00', freq='W-FRI'),\n",
       " Timestamp('2012-08-10 00:00:00', freq='W-FRI'),\n",
       " Timestamp('2012-08-17 00:00:00', freq='W-FRI'),\n",
       " Timestamp('2012-08-24 00:00:00', freq='W-FRI'),\n",
       " Timestamp('2012-08-31 00:00:00', freq='W-FRI')]"
      ]
     },
     "execution_count": 42,
     "metadata": {},
     "output_type": "execute_result"
    }
   ],
   "source": [
    "rng = pd.date_range('2012-01-01', '2012-09-01', freq='W-FRI')\n",
    "list(rng)"
   ]
  },
  {
   "cell_type": "code",
   "execution_count": 43,
   "metadata": {},
   "outputs": [
    {
     "data": {
      "text/plain": [
       "2000-01-31   -1.134666\n",
       "2000-02-29   -0.354036\n",
       "2000-03-31   -0.486581\n",
       "2000-04-30    0.785361\n",
       "Freq: M, dtype: float64"
      ]
     },
     "execution_count": 43,
     "metadata": {},
     "output_type": "execute_result"
    }
   ],
   "source": [
    "ts = pd.Series(np.random.randn(4),index=pd.date_range('1/1/2000', periods=4, freq='M'))\n",
    "ts"
   ]
  },
  {
   "cell_type": "code",
   "execution_count": 44,
   "metadata": {},
   "outputs": [
    {
     "data": {
      "text/plain": [
       "2000-01-31         NaN\n",
       "2000-02-29   -1.134666\n",
       "2000-03-31   -0.354036\n",
       "2000-04-30   -0.486581\n",
       "Freq: M, dtype: float64"
      ]
     },
     "execution_count": 44,
     "metadata": {},
     "output_type": "execute_result"
    }
   ],
   "source": [
    "ts.shift(1)"
   ]
  },
  {
   "cell_type": "code",
   "execution_count": 45,
   "metadata": {},
   "outputs": [
    {
     "data": {
      "text/plain": [
       "2000-01-31         NaN\n",
       "2000-02-29   -0.687982\n",
       "2000-03-31    0.374382\n",
       "2000-04-30   -2.614041\n",
       "Freq: M, dtype: float64"
      ]
     },
     "execution_count": 45,
     "metadata": {},
     "output_type": "execute_result"
    }
   ],
   "source": [
    "ts / ts.shift(1) - 1"
   ]
  },
  {
   "cell_type": "code",
   "execution_count": 46,
   "metadata": {},
   "outputs": [
    {
     "data": {
      "text/plain": [
       "2000-01-29   -1.134666\n",
       "2000-02-27   -0.354036\n",
       "2000-03-29   -0.486581\n",
       "2000-04-28    0.785361\n",
       "dtype: float64"
      ]
     },
     "execution_count": 46,
     "metadata": {},
     "output_type": "execute_result"
    }
   ],
   "source": [
    "ts.shift(-2,freq='D')"
   ]
  },
  {
   "cell_type": "code",
   "execution_count": 47,
   "metadata": {},
   "outputs": [],
   "source": [
    "from pandas.tseries.offsets import Day,MonthEnd,MonthBegin"
   ]
  },
  {
   "cell_type": "code",
   "execution_count": 48,
   "metadata": {},
   "outputs": [],
   "source": [
    "now = datetime.now()"
   ]
  },
  {
   "cell_type": "code",
   "execution_count": 49,
   "metadata": {},
   "outputs": [
    {
     "data": {
      "text/plain": [
       "datetime.datetime(2019, 3, 27, 14, 11, 1, 506837)"
      ]
     },
     "execution_count": 49,
     "metadata": {},
     "output_type": "execute_result"
    }
   ],
   "source": [
    "now"
   ]
  },
  {
   "cell_type": "code",
   "execution_count": 50,
   "metadata": {},
   "outputs": [
    {
     "data": {
      "text/plain": [
       "Timestamp('2019-03-29 14:11:01.506837')"
      ]
     },
     "execution_count": 50,
     "metadata": {},
     "output_type": "execute_result"
    }
   ],
   "source": [
    "now + 2*Day()"
   ]
  },
  {
   "cell_type": "code",
   "execution_count": 51,
   "metadata": {},
   "outputs": [
    {
     "data": {
      "text/plain": [
       "Timestamp('2019-01-31 14:11:01.506837')"
      ]
     },
     "execution_count": 51,
     "metadata": {},
     "output_type": "execute_result"
    }
   ],
   "source": [
    "now + MonthEnd(-2)"
   ]
  },
  {
   "cell_type": "code",
   "execution_count": 52,
   "metadata": {},
   "outputs": [
    {
     "data": {
      "text/plain": [
       "Timestamp('2019-05-01 14:11:01.506837')"
      ]
     },
     "execution_count": 52,
     "metadata": {},
     "output_type": "execute_result"
    }
   ],
   "source": [
    "now + MonthBegin(2)"
   ]
  },
  {
   "cell_type": "code",
   "execution_count": 53,
   "metadata": {},
   "outputs": [
    {
     "data": {
      "text/plain": [
       "2000-01-15   -0.893335\n",
       "2000-01-19   -0.446307\n",
       "2000-01-23    1.720853\n",
       "2000-01-27   -0.461828\n",
       "2000-01-31   -0.577913\n",
       "2000-02-04    0.478141\n",
       "2000-02-08    0.377690\n",
       "2000-02-12   -0.711194\n",
       "2000-02-16    1.183124\n",
       "2000-02-20    1.678863\n",
       "2000-02-24    0.499719\n",
       "2000-02-28   -1.229905\n",
       "2000-03-03    0.108521\n",
       "2000-03-07    1.354092\n",
       "2000-03-11   -0.563729\n",
       "2000-03-15    0.419622\n",
       "2000-03-19   -0.766693\n",
       "2000-03-23   -1.702275\n",
       "2000-03-27   -0.806273\n",
       "2000-03-31    1.710031\n",
       "Freq: 4D, dtype: float64"
      ]
     },
     "execution_count": 53,
     "metadata": {},
     "output_type": "execute_result"
    }
   ],
   "source": [
    "ts = pd.Series(np.random.randn(20),\n",
    "   .....:                index=pd.date_range('1/15/2000', periods=20, freq='4d'))\n",
    "ts"
   ]
  },
  {
   "cell_type": "code",
   "execution_count": 54,
   "metadata": {},
   "outputs": [
    {
     "data": {
      "text/plain": [
       "2000-02-01   -0.131706\n",
       "2000-03-01    0.325205\n",
       "2000-04-01   -0.030838\n",
       "Freq: 4D, dtype: float64"
      ]
     },
     "execution_count": 54,
     "metadata": {},
     "output_type": "execute_result"
    }
   ],
   "source": [
    "offset = MonthEnd(-1)\n",
    "ts.groupby(ts.index + MonthBegin()).mean()"
   ]
  },
  {
   "cell_type": "code",
   "execution_count": 55,
   "metadata": {},
   "outputs": [],
   "source": [
    "import pytz"
   ]
  },
  {
   "cell_type": "code",
   "execution_count": 56,
   "metadata": {},
   "outputs": [
    {
     "data": {
      "text/plain": [
       "['US/Eastern', 'US/Hawaii', 'US/Mountain', 'US/Pacific', 'UTC']"
      ]
     },
     "execution_count": 56,
     "metadata": {},
     "output_type": "execute_result"
    }
   ],
   "source": [
    "pytz.common_timezones[-5:]"
   ]
  },
  {
   "cell_type": "code",
   "execution_count": 57,
   "metadata": {},
   "outputs": [
    {
     "data": {
      "text/plain": [
       "<DstTzInfo 'America/New_York' LMT-1 day, 19:04:00 STD>"
      ]
     },
     "execution_count": 57,
     "metadata": {},
     "output_type": "execute_result"
    }
   ],
   "source": [
    "pytz.timezone('America/New_York')"
   ]
  },
  {
   "cell_type": "code",
   "execution_count": 58,
   "metadata": {},
   "outputs": [
    {
     "data": {
      "text/plain": [
       "datetime.datetime(2019, 3, 27, 14, 11, 2, 2444)"
      ]
     },
     "execution_count": 58,
     "metadata": {},
     "output_type": "execute_result"
    }
   ],
   "source": [
    "now = datetime.now()\n",
    "now"
   ]
  },
  {
   "cell_type": "code",
   "execution_count": 59,
   "metadata": {},
   "outputs": [
    {
     "data": {
      "text/plain": [
       "2012-03-09 09:30:00   -0.369468\n",
       "2012-03-10 09:30:00   -0.410577\n",
       "2012-03-11 09:30:00   -2.640912\n",
       "2012-03-12 09:30:00    0.468519\n",
       "2012-03-13 09:30:00   -0.783610\n",
       "2012-03-14 09:30:00    0.909143\n",
       "Freq: D, dtype: float64"
      ]
     },
     "execution_count": 59,
     "metadata": {},
     "output_type": "execute_result"
    }
   ],
   "source": [
    "rng = pd.date_range('3/9/2012 9:30', periods=6, freq='D')\n",
    "\n",
    "ts = pd.Series(np.random.randn(len(rng)), index=rng)\n",
    "\n",
    "ts"
   ]
  },
  {
   "cell_type": "code",
   "execution_count": 60,
   "metadata": {},
   "outputs": [
    {
     "name": "stdout",
     "output_type": "stream",
     "text": [
      "None\n"
     ]
    }
   ],
   "source": [
    "print(ts.index.tz)"
   ]
  },
  {
   "cell_type": "code",
   "execution_count": 61,
   "metadata": {},
   "outputs": [
    {
     "data": {
      "text/plain": [
       "2012-03-09 09:30:00+00:00   -0.369468\n",
       "2012-03-10 09:30:00+00:00   -0.410577\n",
       "2012-03-11 09:30:00+00:00   -2.640912\n",
       "2012-03-12 09:30:00+00:00    0.468519\n",
       "2012-03-13 09:30:00+00:00   -0.783610\n",
       "2012-03-14 09:30:00+00:00    0.909143\n",
       "Freq: D, dtype: float64"
      ]
     },
     "execution_count": 61,
     "metadata": {},
     "output_type": "execute_result"
    }
   ],
   "source": [
    "ts_utc = ts.tz_localize('UTC')\n",
    "ts_utc"
   ]
  },
  {
   "cell_type": "code",
   "execution_count": 62,
   "metadata": {},
   "outputs": [
    {
     "data": {
      "text/plain": [
       "2012-03-09 04:30:00-05:00   -0.369468\n",
       "2012-03-10 04:30:00-05:00   -0.410577\n",
       "2012-03-11 05:30:00-04:00   -2.640912\n",
       "2012-03-12 05:30:00-04:00    0.468519\n",
       "2012-03-13 05:30:00-04:00   -0.783610\n",
       "2012-03-14 05:30:00-04:00    0.909143\n",
       "Freq: D, dtype: float64"
      ]
     },
     "execution_count": 62,
     "metadata": {},
     "output_type": "execute_result"
    }
   ],
   "source": [
    "ts_ny = ts_utc.tz_convert('America/New_York')\n",
    "ts_ny"
   ]
  },
  {
   "cell_type": "code",
   "execution_count": 63,
   "metadata": {},
   "outputs": [
    {
     "data": {
      "text/plain": [
       "2012-03-07 09:30:00   -0.707331\n",
       "2012-03-08 09:30:00   -1.643219\n",
       "2012-03-09 09:30:00   -0.686797\n",
       "2012-03-12 09:30:00   -1.440822\n",
       "2012-03-13 09:30:00    1.041768\n",
       "2012-03-14 09:30:00   -0.591774\n",
       "2012-03-15 09:30:00    0.542885\n",
       "2012-03-16 09:30:00   -2.413944\n",
       "2012-03-19 09:30:00    1.178804\n",
       "2012-03-20 09:30:00   -1.523168\n",
       "Freq: B, dtype: float64"
      ]
     },
     "execution_count": 63,
     "metadata": {},
     "output_type": "execute_result"
    }
   ],
   "source": [
    "rng = pd.date_range('3/7/2012 9:30', periods=10, freq='B')\n",
    "ts = pd.Series(np.random.randn(len(rng)), index=rng)\n",
    "ts"
   ]
  },
  {
   "cell_type": "code",
   "execution_count": 64,
   "metadata": {},
   "outputs": [
    {
     "data": {
      "text/plain": [
       "2012-03-07 09:30:00+00:00   -0.707331\n",
       "2012-03-08 09:30:00+00:00   -1.643219\n",
       "2012-03-09 09:30:00+00:00   -0.686797\n",
       "2012-03-12 09:30:00+00:00   -1.440822\n",
       "2012-03-13 09:30:00+00:00    1.041768\n",
       "2012-03-14 09:30:00+00:00   -0.591774\n",
       "2012-03-15 09:30:00+00:00    0.542885\n",
       "Freq: B, dtype: float64"
      ]
     },
     "execution_count": 64,
     "metadata": {},
     "output_type": "execute_result"
    }
   ],
   "source": [
    "ts1 = ts[:7].tz_localize('Europe/London')\n",
    "ts1"
   ]
  },
  {
   "cell_type": "code",
   "execution_count": 65,
   "metadata": {},
   "outputs": [
    {
     "data": {
      "text/plain": [
       "2012-03-09 13:30:00+04:00   -0.686797\n",
       "2012-03-12 13:30:00+04:00   -1.440822\n",
       "2012-03-13 13:30:00+04:00    1.041768\n",
       "2012-03-14 13:30:00+04:00   -0.591774\n",
       "2012-03-15 13:30:00+04:00    0.542885\n",
       "Freq: B, dtype: float64"
      ]
     },
     "execution_count": 65,
     "metadata": {},
     "output_type": "execute_result"
    }
   ],
   "source": [
    "ts2 = ts1[2:].tz_convert('Europe/Moscow')\n",
    "ts2"
   ]
  },
  {
   "cell_type": "code",
   "execution_count": 66,
   "metadata": {},
   "outputs": [
    {
     "data": {
      "text/plain": [
       "2012-03-07 09:30:00+00:00         NaN\n",
       "2012-03-08 09:30:00+00:00         NaN\n",
       "2012-03-09 09:30:00+00:00   -1.373595\n",
       "2012-03-12 09:30:00+00:00   -2.881643\n",
       "2012-03-13 09:30:00+00:00    2.083537\n",
       "2012-03-14 09:30:00+00:00   -1.183549\n",
       "2012-03-15 09:30:00+00:00    1.085771\n",
       "Freq: B, dtype: float64"
      ]
     },
     "execution_count": 66,
     "metadata": {},
     "output_type": "execute_result"
    }
   ],
   "source": [
    "result = ts1+ts2\n",
    "result"
   ]
  },
  {
   "cell_type": "code",
   "execution_count": 67,
   "metadata": {},
   "outputs": [],
   "source": [
    "rng = pd.period_range('2000-01-01', '2001-06-30', freq='m')"
   ]
  },
  {
   "cell_type": "code",
   "execution_count": 68,
   "metadata": {},
   "outputs": [
    {
     "data": {
      "text/plain": [
       "PeriodIndex(['2000-01', '2000-02', '2000-03', '2000-04', '2000-05', '2000-06',\n",
       "             '2000-07', '2000-08', '2000-09', '2000-10', '2000-11', '2000-12',\n",
       "             '2001-01', '2001-02', '2001-03', '2001-04', '2001-05', '2001-06'],\n",
       "            dtype='period[M]', freq='M')"
      ]
     },
     "execution_count": 68,
     "metadata": {},
     "output_type": "execute_result"
    }
   ],
   "source": [
    "rng"
   ]
  },
  {
   "cell_type": "code",
   "execution_count": 69,
   "metadata": {},
   "outputs": [],
   "source": [
    "rng = pd.date_range('2000-01-01', periods=3, freq='M')"
   ]
  },
  {
   "cell_type": "code",
   "execution_count": 70,
   "metadata": {},
   "outputs": [
    {
     "data": {
      "text/plain": [
       "2000-01-31   -0.838552\n",
       "2000-02-29   -0.041087\n",
       "2000-03-31    1.066247\n",
       "Freq: M, dtype: float64"
      ]
     },
     "execution_count": 70,
     "metadata": {},
     "output_type": "execute_result"
    }
   ],
   "source": [
    "ts = pd.Series(np.random.randn(3), index=rng)\n",
    "ts"
   ]
  },
  {
   "cell_type": "code",
   "execution_count": 71,
   "metadata": {},
   "outputs": [
    {
     "data": {
      "text/plain": [
       "2000Q4   -0.838552\n",
       "2001Q1   -0.041087\n",
       "2001Q1    1.066247\n",
       "Freq: Q-JAN, dtype: float64"
      ]
     },
     "execution_count": 71,
     "metadata": {},
     "output_type": "execute_result"
    }
   ],
   "source": [
    "a = ts.to_period('Q-JAN')\n",
    "a"
   ]
  },
  {
   "cell_type": "code",
   "execution_count": 72,
   "metadata": {},
   "outputs": [
    {
     "data": {
      "text/plain": [
       "1999-11-01   -0.838552\n",
       "2000-02-01   -0.041087\n",
       "2000-02-01    1.066247\n",
       "dtype: float64"
      ]
     },
     "execution_count": 72,
     "metadata": {},
     "output_type": "execute_result"
    }
   ],
   "source": [
    "a.to_timestamp(how='start')"
   ]
  },
  {
   "cell_type": "code",
   "execution_count": 73,
   "metadata": {},
   "outputs": [
    {
     "data": {
      "text/plain": [
       "2010Q4    0.467384\n",
       "2011Q1    0.187004\n",
       "2011Q2    0.775516\n",
       "2011Q3    0.124847\n",
       "2011Q4    0.353558\n",
       "Freq: Q-JAN, dtype: float64"
      ]
     },
     "execution_count": 73,
     "metadata": {},
     "output_type": "execute_result"
    }
   ],
   "source": [
    "ts = pd.Series(np.random.rand(5),index=pd.date_range('2010-01-27',periods=5,freq='Q-JAN'))\n",
    "ts = ts.to_period('Q-JAN')\n",
    "ts"
   ]
  },
  {
   "cell_type": "code",
   "execution_count": 74,
   "metadata": {},
   "outputs": [
    {
     "data": {
      "text/plain": [
       "2009-11-01    0.467384\n",
       "2010-02-01    0.187004\n",
       "2010-05-01    0.775516\n",
       "2010-08-01    0.124847\n",
       "2010-11-01    0.353558\n",
       "Freq: QS-NOV, dtype: float64"
      ]
     },
     "execution_count": 74,
     "metadata": {},
     "output_type": "execute_result"
    }
   ],
   "source": [
    "ts.to_timestamp()"
   ]
  },
  {
   "cell_type": "code",
   "execution_count": 75,
   "metadata": {},
   "outputs": [],
   "source": [
    "data = pd.read_csv(r'C:\\Users\\ashwi\\Desktop\\Ashwin\\pydata-book\\examples/macrodata.csv')"
   ]
  },
  {
   "cell_type": "code",
   "execution_count": 76,
   "metadata": {},
   "outputs": [
    {
     "data": {
      "text/html": [
       "<div>\n",
       "<style scoped>\n",
       "    .dataframe tbody tr th:only-of-type {\n",
       "        vertical-align: middle;\n",
       "    }\n",
       "\n",
       "    .dataframe tbody tr th {\n",
       "        vertical-align: top;\n",
       "    }\n",
       "\n",
       "    .dataframe thead th {\n",
       "        text-align: right;\n",
       "    }\n",
       "</style>\n",
       "<table border=\"1\" class=\"dataframe\">\n",
       "  <thead>\n",
       "    <tr style=\"text-align: right;\">\n",
       "      <th></th>\n",
       "      <th>year</th>\n",
       "      <th>quarter</th>\n",
       "      <th>realgdp</th>\n",
       "      <th>realcons</th>\n",
       "      <th>realinv</th>\n",
       "      <th>realgovt</th>\n",
       "      <th>realdpi</th>\n",
       "      <th>cpi</th>\n",
       "      <th>m1</th>\n",
       "      <th>tbilrate</th>\n",
       "      <th>unemp</th>\n",
       "      <th>pop</th>\n",
       "      <th>infl</th>\n",
       "      <th>realint</th>\n",
       "    </tr>\n",
       "  </thead>\n",
       "  <tbody>\n",
       "    <tr>\n",
       "      <th>0</th>\n",
       "      <td>1959.0</td>\n",
       "      <td>1.0</td>\n",
       "      <td>2710.349</td>\n",
       "      <td>1707.4</td>\n",
       "      <td>286.898</td>\n",
       "      <td>470.045</td>\n",
       "      <td>1886.9</td>\n",
       "      <td>28.98</td>\n",
       "      <td>139.7</td>\n",
       "      <td>2.82</td>\n",
       "      <td>5.8</td>\n",
       "      <td>177.146</td>\n",
       "      <td>0.00</td>\n",
       "      <td>0.00</td>\n",
       "    </tr>\n",
       "    <tr>\n",
       "      <th>1</th>\n",
       "      <td>1959.0</td>\n",
       "      <td>2.0</td>\n",
       "      <td>2778.801</td>\n",
       "      <td>1733.7</td>\n",
       "      <td>310.859</td>\n",
       "      <td>481.301</td>\n",
       "      <td>1919.7</td>\n",
       "      <td>29.15</td>\n",
       "      <td>141.7</td>\n",
       "      <td>3.08</td>\n",
       "      <td>5.1</td>\n",
       "      <td>177.830</td>\n",
       "      <td>2.34</td>\n",
       "      <td>0.74</td>\n",
       "    </tr>\n",
       "    <tr>\n",
       "      <th>2</th>\n",
       "      <td>1959.0</td>\n",
       "      <td>3.0</td>\n",
       "      <td>2775.488</td>\n",
       "      <td>1751.8</td>\n",
       "      <td>289.226</td>\n",
       "      <td>491.260</td>\n",
       "      <td>1916.4</td>\n",
       "      <td>29.35</td>\n",
       "      <td>140.5</td>\n",
       "      <td>3.82</td>\n",
       "      <td>5.3</td>\n",
       "      <td>178.657</td>\n",
       "      <td>2.74</td>\n",
       "      <td>1.09</td>\n",
       "    </tr>\n",
       "    <tr>\n",
       "      <th>3</th>\n",
       "      <td>1959.0</td>\n",
       "      <td>4.0</td>\n",
       "      <td>2785.204</td>\n",
       "      <td>1753.7</td>\n",
       "      <td>299.356</td>\n",
       "      <td>484.052</td>\n",
       "      <td>1931.3</td>\n",
       "      <td>29.37</td>\n",
       "      <td>140.0</td>\n",
       "      <td>4.33</td>\n",
       "      <td>5.6</td>\n",
       "      <td>179.386</td>\n",
       "      <td>0.27</td>\n",
       "      <td>4.06</td>\n",
       "    </tr>\n",
       "    <tr>\n",
       "      <th>4</th>\n",
       "      <td>1960.0</td>\n",
       "      <td>1.0</td>\n",
       "      <td>2847.699</td>\n",
       "      <td>1770.5</td>\n",
       "      <td>331.722</td>\n",
       "      <td>462.199</td>\n",
       "      <td>1955.5</td>\n",
       "      <td>29.54</td>\n",
       "      <td>139.6</td>\n",
       "      <td>3.50</td>\n",
       "      <td>5.2</td>\n",
       "      <td>180.007</td>\n",
       "      <td>2.31</td>\n",
       "      <td>1.19</td>\n",
       "    </tr>\n",
       "  </tbody>\n",
       "</table>\n",
       "</div>"
      ],
      "text/plain": [
       "     year  quarter   realgdp  realcons  realinv  realgovt  realdpi    cpi  \\\n",
       "0  1959.0      1.0  2710.349    1707.4  286.898   470.045   1886.9  28.98   \n",
       "1  1959.0      2.0  2778.801    1733.7  310.859   481.301   1919.7  29.15   \n",
       "2  1959.0      3.0  2775.488    1751.8  289.226   491.260   1916.4  29.35   \n",
       "3  1959.0      4.0  2785.204    1753.7  299.356   484.052   1931.3  29.37   \n",
       "4  1960.0      1.0  2847.699    1770.5  331.722   462.199   1955.5  29.54   \n",
       "\n",
       "      m1  tbilrate  unemp      pop  infl  realint  \n",
       "0  139.7      2.82    5.8  177.146  0.00     0.00  \n",
       "1  141.7      3.08    5.1  177.830  2.34     0.74  \n",
       "2  140.5      3.82    5.3  178.657  2.74     1.09  \n",
       "3  140.0      4.33    5.6  179.386  0.27     4.06  \n",
       "4  139.6      3.50    5.2  180.007  2.31     1.19  "
      ]
     },
     "execution_count": 76,
     "metadata": {},
     "output_type": "execute_result"
    }
   ],
   "source": [
    "data.head()"
   ]
  },
  {
   "cell_type": "code",
   "execution_count": 77,
   "metadata": {},
   "outputs": [
    {
     "data": {
      "text/plain": [
       "0    1959.0\n",
       "1    1959.0\n",
       "2    1959.0\n",
       "3    1959.0\n",
       "4    1960.0\n",
       "Name: year, dtype: float64"
      ]
     },
     "execution_count": 77,
     "metadata": {},
     "output_type": "execute_result"
    }
   ],
   "source": [
    "data.year.head()"
   ]
  },
  {
   "cell_type": "code",
   "execution_count": 78,
   "metadata": {},
   "outputs": [
    {
     "data": {
      "text/plain": [
       "0    1.0\n",
       "1    2.0\n",
       "2    3.0\n",
       "3    4.0\n",
       "4    1.0\n",
       "Name: quarter, dtype: float64"
      ]
     },
     "execution_count": 78,
     "metadata": {},
     "output_type": "execute_result"
    }
   ],
   "source": [
    "data.quarter.head()"
   ]
  },
  {
   "cell_type": "code",
   "execution_count": 79,
   "metadata": {},
   "outputs": [],
   "source": [
    "index = pd.PeriodIndex(year = data.year , month = data.quarter,freq = 'm')"
   ]
  },
  {
   "cell_type": "code",
   "execution_count": 80,
   "metadata": {},
   "outputs": [
    {
     "data": {
      "text/plain": [
       "PeriodIndex(['1959-01', '1959-02', '1959-03', '1959-04', '1960-01', '1960-02',\n",
       "             '1960-03', '1960-04', '1961-01', '1961-02',\n",
       "             ...\n",
       "             '2007-02', '2007-03', '2007-04', '2008-01', '2008-02', '2008-03',\n",
       "             '2008-04', '2009-01', '2009-02', '2009-03'],\n",
       "            dtype='period[M]', length=203, freq='M')"
      ]
     },
     "execution_count": 80,
     "metadata": {},
     "output_type": "execute_result"
    }
   ],
   "source": [
    "index"
   ]
  },
  {
   "cell_type": "code",
   "execution_count": 81,
   "metadata": {},
   "outputs": [],
   "source": [
    "data.index = index"
   ]
  },
  {
   "cell_type": "code",
   "execution_count": 82,
   "metadata": {},
   "outputs": [
    {
     "data": {
      "text/html": [
       "<div>\n",
       "<style scoped>\n",
       "    .dataframe tbody tr th:only-of-type {\n",
       "        vertical-align: middle;\n",
       "    }\n",
       "\n",
       "    .dataframe tbody tr th {\n",
       "        vertical-align: top;\n",
       "    }\n",
       "\n",
       "    .dataframe thead th {\n",
       "        text-align: right;\n",
       "    }\n",
       "</style>\n",
       "<table border=\"1\" class=\"dataframe\">\n",
       "  <thead>\n",
       "    <tr style=\"text-align: right;\">\n",
       "      <th></th>\n",
       "      <th>year</th>\n",
       "      <th>quarter</th>\n",
       "      <th>realgdp</th>\n",
       "      <th>realcons</th>\n",
       "      <th>realinv</th>\n",
       "      <th>realgovt</th>\n",
       "      <th>realdpi</th>\n",
       "      <th>cpi</th>\n",
       "      <th>m1</th>\n",
       "      <th>tbilrate</th>\n",
       "      <th>unemp</th>\n",
       "      <th>pop</th>\n",
       "      <th>infl</th>\n",
       "      <th>realint</th>\n",
       "    </tr>\n",
       "  </thead>\n",
       "  <tbody>\n",
       "    <tr>\n",
       "      <th>1959-01</th>\n",
       "      <td>1959.0</td>\n",
       "      <td>1.0</td>\n",
       "      <td>2710.349</td>\n",
       "      <td>1707.4</td>\n",
       "      <td>286.898</td>\n",
       "      <td>470.045</td>\n",
       "      <td>1886.9</td>\n",
       "      <td>28.980</td>\n",
       "      <td>139.7</td>\n",
       "      <td>2.82</td>\n",
       "      <td>5.8</td>\n",
       "      <td>177.146</td>\n",
       "      <td>0.00</td>\n",
       "      <td>0.00</td>\n",
       "    </tr>\n",
       "    <tr>\n",
       "      <th>1959-02</th>\n",
       "      <td>1959.0</td>\n",
       "      <td>2.0</td>\n",
       "      <td>2778.801</td>\n",
       "      <td>1733.7</td>\n",
       "      <td>310.859</td>\n",
       "      <td>481.301</td>\n",
       "      <td>1919.7</td>\n",
       "      <td>29.150</td>\n",
       "      <td>141.7</td>\n",
       "      <td>3.08</td>\n",
       "      <td>5.1</td>\n",
       "      <td>177.830</td>\n",
       "      <td>2.34</td>\n",
       "      <td>0.74</td>\n",
       "    </tr>\n",
       "    <tr>\n",
       "      <th>1959-03</th>\n",
       "      <td>1959.0</td>\n",
       "      <td>3.0</td>\n",
       "      <td>2775.488</td>\n",
       "      <td>1751.8</td>\n",
       "      <td>289.226</td>\n",
       "      <td>491.260</td>\n",
       "      <td>1916.4</td>\n",
       "      <td>29.350</td>\n",
       "      <td>140.5</td>\n",
       "      <td>3.82</td>\n",
       "      <td>5.3</td>\n",
       "      <td>178.657</td>\n",
       "      <td>2.74</td>\n",
       "      <td>1.09</td>\n",
       "    </tr>\n",
       "    <tr>\n",
       "      <th>1959-04</th>\n",
       "      <td>1959.0</td>\n",
       "      <td>4.0</td>\n",
       "      <td>2785.204</td>\n",
       "      <td>1753.7</td>\n",
       "      <td>299.356</td>\n",
       "      <td>484.052</td>\n",
       "      <td>1931.3</td>\n",
       "      <td>29.370</td>\n",
       "      <td>140.0</td>\n",
       "      <td>4.33</td>\n",
       "      <td>5.6</td>\n",
       "      <td>179.386</td>\n",
       "      <td>0.27</td>\n",
       "      <td>4.06</td>\n",
       "    </tr>\n",
       "    <tr>\n",
       "      <th>1960-01</th>\n",
       "      <td>1960.0</td>\n",
       "      <td>1.0</td>\n",
       "      <td>2847.699</td>\n",
       "      <td>1770.5</td>\n",
       "      <td>331.722</td>\n",
       "      <td>462.199</td>\n",
       "      <td>1955.5</td>\n",
       "      <td>29.540</td>\n",
       "      <td>139.6</td>\n",
       "      <td>3.50</td>\n",
       "      <td>5.2</td>\n",
       "      <td>180.007</td>\n",
       "      <td>2.31</td>\n",
       "      <td>1.19</td>\n",
       "    </tr>\n",
       "    <tr>\n",
       "      <th>1960-02</th>\n",
       "      <td>1960.0</td>\n",
       "      <td>2.0</td>\n",
       "      <td>2834.390</td>\n",
       "      <td>1792.9</td>\n",
       "      <td>298.152</td>\n",
       "      <td>460.400</td>\n",
       "      <td>1966.1</td>\n",
       "      <td>29.550</td>\n",
       "      <td>140.2</td>\n",
       "      <td>2.68</td>\n",
       "      <td>5.2</td>\n",
       "      <td>180.671</td>\n",
       "      <td>0.14</td>\n",
       "      <td>2.55</td>\n",
       "    </tr>\n",
       "    <tr>\n",
       "      <th>1960-03</th>\n",
       "      <td>1960.0</td>\n",
       "      <td>3.0</td>\n",
       "      <td>2839.022</td>\n",
       "      <td>1785.8</td>\n",
       "      <td>296.375</td>\n",
       "      <td>474.676</td>\n",
       "      <td>1967.8</td>\n",
       "      <td>29.750</td>\n",
       "      <td>140.9</td>\n",
       "      <td>2.36</td>\n",
       "      <td>5.6</td>\n",
       "      <td>181.528</td>\n",
       "      <td>2.70</td>\n",
       "      <td>-0.34</td>\n",
       "    </tr>\n",
       "    <tr>\n",
       "      <th>1960-04</th>\n",
       "      <td>1960.0</td>\n",
       "      <td>4.0</td>\n",
       "      <td>2802.616</td>\n",
       "      <td>1788.2</td>\n",
       "      <td>259.764</td>\n",
       "      <td>476.434</td>\n",
       "      <td>1966.6</td>\n",
       "      <td>29.840</td>\n",
       "      <td>141.1</td>\n",
       "      <td>2.29</td>\n",
       "      <td>6.3</td>\n",
       "      <td>182.287</td>\n",
       "      <td>1.21</td>\n",
       "      <td>1.08</td>\n",
       "    </tr>\n",
       "    <tr>\n",
       "      <th>1961-01</th>\n",
       "      <td>1961.0</td>\n",
       "      <td>1.0</td>\n",
       "      <td>2819.264</td>\n",
       "      <td>1787.7</td>\n",
       "      <td>266.405</td>\n",
       "      <td>475.854</td>\n",
       "      <td>1984.5</td>\n",
       "      <td>29.810</td>\n",
       "      <td>142.1</td>\n",
       "      <td>2.37</td>\n",
       "      <td>6.8</td>\n",
       "      <td>182.992</td>\n",
       "      <td>-0.40</td>\n",
       "      <td>2.77</td>\n",
       "    </tr>\n",
       "    <tr>\n",
       "      <th>1961-02</th>\n",
       "      <td>1961.0</td>\n",
       "      <td>2.0</td>\n",
       "      <td>2872.005</td>\n",
       "      <td>1814.3</td>\n",
       "      <td>286.246</td>\n",
       "      <td>480.328</td>\n",
       "      <td>2014.4</td>\n",
       "      <td>29.920</td>\n",
       "      <td>142.9</td>\n",
       "      <td>2.29</td>\n",
       "      <td>7.0</td>\n",
       "      <td>183.691</td>\n",
       "      <td>1.47</td>\n",
       "      <td>0.81</td>\n",
       "    </tr>\n",
       "    <tr>\n",
       "      <th>1961-03</th>\n",
       "      <td>1961.0</td>\n",
       "      <td>3.0</td>\n",
       "      <td>2918.419</td>\n",
       "      <td>1823.1</td>\n",
       "      <td>310.227</td>\n",
       "      <td>493.828</td>\n",
       "      <td>2041.9</td>\n",
       "      <td>29.980</td>\n",
       "      <td>144.1</td>\n",
       "      <td>2.32</td>\n",
       "      <td>6.8</td>\n",
       "      <td>184.524</td>\n",
       "      <td>0.80</td>\n",
       "      <td>1.52</td>\n",
       "    </tr>\n",
       "    <tr>\n",
       "      <th>1961-04</th>\n",
       "      <td>1961.0</td>\n",
       "      <td>4.0</td>\n",
       "      <td>2977.830</td>\n",
       "      <td>1859.6</td>\n",
       "      <td>315.463</td>\n",
       "      <td>502.521</td>\n",
       "      <td>2082.0</td>\n",
       "      <td>30.040</td>\n",
       "      <td>145.2</td>\n",
       "      <td>2.60</td>\n",
       "      <td>6.2</td>\n",
       "      <td>185.242</td>\n",
       "      <td>0.80</td>\n",
       "      <td>1.80</td>\n",
       "    </tr>\n",
       "    <tr>\n",
       "      <th>1962-01</th>\n",
       "      <td>1962.0</td>\n",
       "      <td>1.0</td>\n",
       "      <td>3031.241</td>\n",
       "      <td>1879.4</td>\n",
       "      <td>334.271</td>\n",
       "      <td>520.960</td>\n",
       "      <td>2101.7</td>\n",
       "      <td>30.210</td>\n",
       "      <td>146.4</td>\n",
       "      <td>2.73</td>\n",
       "      <td>5.6</td>\n",
       "      <td>185.874</td>\n",
       "      <td>2.26</td>\n",
       "      <td>0.47</td>\n",
       "    </tr>\n",
       "    <tr>\n",
       "      <th>1962-02</th>\n",
       "      <td>1962.0</td>\n",
       "      <td>2.0</td>\n",
       "      <td>3064.709</td>\n",
       "      <td>1902.5</td>\n",
       "      <td>331.039</td>\n",
       "      <td>523.066</td>\n",
       "      <td>2125.2</td>\n",
       "      <td>30.220</td>\n",
       "      <td>146.5</td>\n",
       "      <td>2.78</td>\n",
       "      <td>5.5</td>\n",
       "      <td>186.538</td>\n",
       "      <td>0.13</td>\n",
       "      <td>2.65</td>\n",
       "    </tr>\n",
       "    <tr>\n",
       "      <th>1962-03</th>\n",
       "      <td>1962.0</td>\n",
       "      <td>3.0</td>\n",
       "      <td>3093.047</td>\n",
       "      <td>1917.9</td>\n",
       "      <td>336.962</td>\n",
       "      <td>538.838</td>\n",
       "      <td>2137.0</td>\n",
       "      <td>30.380</td>\n",
       "      <td>146.7</td>\n",
       "      <td>2.78</td>\n",
       "      <td>5.6</td>\n",
       "      <td>187.323</td>\n",
       "      <td>2.11</td>\n",
       "      <td>0.67</td>\n",
       "    </tr>\n",
       "    <tr>\n",
       "      <th>1962-04</th>\n",
       "      <td>1962.0</td>\n",
       "      <td>4.0</td>\n",
       "      <td>3100.563</td>\n",
       "      <td>1945.1</td>\n",
       "      <td>325.650</td>\n",
       "      <td>535.912</td>\n",
       "      <td>2154.6</td>\n",
       "      <td>30.440</td>\n",
       "      <td>148.3</td>\n",
       "      <td>2.87</td>\n",
       "      <td>5.5</td>\n",
       "      <td>188.013</td>\n",
       "      <td>0.79</td>\n",
       "      <td>2.08</td>\n",
       "    </tr>\n",
       "    <tr>\n",
       "      <th>1963-01</th>\n",
       "      <td>1963.0</td>\n",
       "      <td>1.0</td>\n",
       "      <td>3141.087</td>\n",
       "      <td>1958.2</td>\n",
       "      <td>343.721</td>\n",
       "      <td>522.917</td>\n",
       "      <td>2172.5</td>\n",
       "      <td>30.480</td>\n",
       "      <td>149.7</td>\n",
       "      <td>2.90</td>\n",
       "      <td>5.8</td>\n",
       "      <td>188.580</td>\n",
       "      <td>0.53</td>\n",
       "      <td>2.38</td>\n",
       "    </tr>\n",
       "    <tr>\n",
       "      <th>1963-02</th>\n",
       "      <td>1963.0</td>\n",
       "      <td>2.0</td>\n",
       "      <td>3180.447</td>\n",
       "      <td>1976.9</td>\n",
       "      <td>348.730</td>\n",
       "      <td>518.108</td>\n",
       "      <td>2193.1</td>\n",
       "      <td>30.690</td>\n",
       "      <td>151.3</td>\n",
       "      <td>3.03</td>\n",
       "      <td>5.7</td>\n",
       "      <td>189.242</td>\n",
       "      <td>2.75</td>\n",
       "      <td>0.29</td>\n",
       "    </tr>\n",
       "    <tr>\n",
       "      <th>1963-03</th>\n",
       "      <td>1963.0</td>\n",
       "      <td>3.0</td>\n",
       "      <td>3240.332</td>\n",
       "      <td>2003.8</td>\n",
       "      <td>360.102</td>\n",
       "      <td>546.893</td>\n",
       "      <td>2217.9</td>\n",
       "      <td>30.750</td>\n",
       "      <td>152.6</td>\n",
       "      <td>3.38</td>\n",
       "      <td>5.5</td>\n",
       "      <td>190.028</td>\n",
       "      <td>0.78</td>\n",
       "      <td>2.60</td>\n",
       "    </tr>\n",
       "    <tr>\n",
       "      <th>1963-04</th>\n",
       "      <td>1963.0</td>\n",
       "      <td>4.0</td>\n",
       "      <td>3264.967</td>\n",
       "      <td>2020.6</td>\n",
       "      <td>364.534</td>\n",
       "      <td>532.383</td>\n",
       "      <td>2254.6</td>\n",
       "      <td>30.940</td>\n",
       "      <td>153.7</td>\n",
       "      <td>3.52</td>\n",
       "      <td>5.6</td>\n",
       "      <td>190.668</td>\n",
       "      <td>2.46</td>\n",
       "      <td>1.06</td>\n",
       "    </tr>\n",
       "    <tr>\n",
       "      <th>1964-01</th>\n",
       "      <td>1964.0</td>\n",
       "      <td>1.0</td>\n",
       "      <td>3338.246</td>\n",
       "      <td>2060.5</td>\n",
       "      <td>379.523</td>\n",
       "      <td>529.686</td>\n",
       "      <td>2299.6</td>\n",
       "      <td>30.950</td>\n",
       "      <td>154.8</td>\n",
       "      <td>3.51</td>\n",
       "      <td>5.5</td>\n",
       "      <td>191.245</td>\n",
       "      <td>0.13</td>\n",
       "      <td>3.38</td>\n",
       "    </tr>\n",
       "    <tr>\n",
       "      <th>1964-02</th>\n",
       "      <td>1964.0</td>\n",
       "      <td>2.0</td>\n",
       "      <td>3376.587</td>\n",
       "      <td>2096.7</td>\n",
       "      <td>377.778</td>\n",
       "      <td>526.175</td>\n",
       "      <td>2362.1</td>\n",
       "      <td>31.020</td>\n",
       "      <td>156.8</td>\n",
       "      <td>3.47</td>\n",
       "      <td>5.2</td>\n",
       "      <td>191.889</td>\n",
       "      <td>0.90</td>\n",
       "      <td>2.57</td>\n",
       "    </tr>\n",
       "    <tr>\n",
       "      <th>1964-03</th>\n",
       "      <td>1964.0</td>\n",
       "      <td>3.0</td>\n",
       "      <td>3422.469</td>\n",
       "      <td>2135.2</td>\n",
       "      <td>386.754</td>\n",
       "      <td>522.008</td>\n",
       "      <td>2392.7</td>\n",
       "      <td>31.120</td>\n",
       "      <td>159.2</td>\n",
       "      <td>3.53</td>\n",
       "      <td>5.0</td>\n",
       "      <td>192.631</td>\n",
       "      <td>1.29</td>\n",
       "      <td>2.25</td>\n",
       "    </tr>\n",
       "    <tr>\n",
       "      <th>1964-04</th>\n",
       "      <td>1964.0</td>\n",
       "      <td>4.0</td>\n",
       "      <td>3431.957</td>\n",
       "      <td>2141.2</td>\n",
       "      <td>389.910</td>\n",
       "      <td>514.603</td>\n",
       "      <td>2420.4</td>\n",
       "      <td>31.280</td>\n",
       "      <td>160.7</td>\n",
       "      <td>3.76</td>\n",
       "      <td>5.0</td>\n",
       "      <td>193.223</td>\n",
       "      <td>2.05</td>\n",
       "      <td>1.71</td>\n",
       "    </tr>\n",
       "    <tr>\n",
       "      <th>1965-01</th>\n",
       "      <td>1965.0</td>\n",
       "      <td>1.0</td>\n",
       "      <td>3516.251</td>\n",
       "      <td>2188.8</td>\n",
       "      <td>429.145</td>\n",
       "      <td>508.006</td>\n",
       "      <td>2447.4</td>\n",
       "      <td>31.380</td>\n",
       "      <td>162.0</td>\n",
       "      <td>3.93</td>\n",
       "      <td>4.9</td>\n",
       "      <td>193.709</td>\n",
       "      <td>1.28</td>\n",
       "      <td>2.65</td>\n",
       "    </tr>\n",
       "    <tr>\n",
       "      <th>1965-02</th>\n",
       "      <td>1965.0</td>\n",
       "      <td>2.0</td>\n",
       "      <td>3563.960</td>\n",
       "      <td>2213.0</td>\n",
       "      <td>429.119</td>\n",
       "      <td>508.931</td>\n",
       "      <td>2474.5</td>\n",
       "      <td>31.580</td>\n",
       "      <td>163.1</td>\n",
       "      <td>3.84</td>\n",
       "      <td>4.7</td>\n",
       "      <td>194.303</td>\n",
       "      <td>2.54</td>\n",
       "      <td>1.30</td>\n",
       "    </tr>\n",
       "    <tr>\n",
       "      <th>1965-03</th>\n",
       "      <td>1965.0</td>\n",
       "      <td>3.0</td>\n",
       "      <td>3636.285</td>\n",
       "      <td>2251.0</td>\n",
       "      <td>444.444</td>\n",
       "      <td>529.446</td>\n",
       "      <td>2542.6</td>\n",
       "      <td>31.650</td>\n",
       "      <td>166.0</td>\n",
       "      <td>3.93</td>\n",
       "      <td>4.4</td>\n",
       "      <td>194.997</td>\n",
       "      <td>0.89</td>\n",
       "      <td>3.04</td>\n",
       "    </tr>\n",
       "    <tr>\n",
       "      <th>1965-04</th>\n",
       "      <td>1965.0</td>\n",
       "      <td>4.0</td>\n",
       "      <td>3724.014</td>\n",
       "      <td>2314.3</td>\n",
       "      <td>446.493</td>\n",
       "      <td>544.121</td>\n",
       "      <td>2594.1</td>\n",
       "      <td>31.880</td>\n",
       "      <td>169.1</td>\n",
       "      <td>4.35</td>\n",
       "      <td>4.1</td>\n",
       "      <td>195.539</td>\n",
       "      <td>2.90</td>\n",
       "      <td>1.46</td>\n",
       "    </tr>\n",
       "    <tr>\n",
       "      <th>1966-01</th>\n",
       "      <td>1966.0</td>\n",
       "      <td>1.0</td>\n",
       "      <td>3815.423</td>\n",
       "      <td>2348.5</td>\n",
       "      <td>484.244</td>\n",
       "      <td>556.593</td>\n",
       "      <td>2618.4</td>\n",
       "      <td>32.280</td>\n",
       "      <td>171.8</td>\n",
       "      <td>4.62</td>\n",
       "      <td>3.9</td>\n",
       "      <td>195.999</td>\n",
       "      <td>4.99</td>\n",
       "      <td>-0.37</td>\n",
       "    </tr>\n",
       "    <tr>\n",
       "      <th>1966-02</th>\n",
       "      <td>1966.0</td>\n",
       "      <td>2.0</td>\n",
       "      <td>3828.124</td>\n",
       "      <td>2354.5</td>\n",
       "      <td>475.408</td>\n",
       "      <td>571.371</td>\n",
       "      <td>2624.7</td>\n",
       "      <td>32.450</td>\n",
       "      <td>170.3</td>\n",
       "      <td>4.65</td>\n",
       "      <td>3.8</td>\n",
       "      <td>196.560</td>\n",
       "      <td>2.10</td>\n",
       "      <td>2.55</td>\n",
       "    </tr>\n",
       "    <tr>\n",
       "      <th>...</th>\n",
       "      <td>...</td>\n",
       "      <td>...</td>\n",
       "      <td>...</td>\n",
       "      <td>...</td>\n",
       "      <td>...</td>\n",
       "      <td>...</td>\n",
       "      <td>...</td>\n",
       "      <td>...</td>\n",
       "      <td>...</td>\n",
       "      <td>...</td>\n",
       "      <td>...</td>\n",
       "      <td>...</td>\n",
       "      <td>...</td>\n",
       "      <td>...</td>\n",
       "    </tr>\n",
       "    <tr>\n",
       "      <th>2002-02</th>\n",
       "      <td>2002.0</td>\n",
       "      <td>2.0</td>\n",
       "      <td>11538.770</td>\n",
       "      <td>7997.8</td>\n",
       "      <td>1810.779</td>\n",
       "      <td>774.408</td>\n",
       "      <td>8658.9</td>\n",
       "      <td>180.000</td>\n",
       "      <td>1199.5</td>\n",
       "      <td>1.70</td>\n",
       "      <td>5.8</td>\n",
       "      <td>288.028</td>\n",
       "      <td>1.56</td>\n",
       "      <td>0.14</td>\n",
       "    </tr>\n",
       "    <tr>\n",
       "      <th>2002-03</th>\n",
       "      <td>2002.0</td>\n",
       "      <td>3.0</td>\n",
       "      <td>11596.430</td>\n",
       "      <td>8052.0</td>\n",
       "      <td>1814.531</td>\n",
       "      <td>786.673</td>\n",
       "      <td>8629.2</td>\n",
       "      <td>181.200</td>\n",
       "      <td>1204.0</td>\n",
       "      <td>1.61</td>\n",
       "      <td>5.7</td>\n",
       "      <td>288.783</td>\n",
       "      <td>2.66</td>\n",
       "      <td>-1.05</td>\n",
       "    </tr>\n",
       "    <tr>\n",
       "      <th>2002-04</th>\n",
       "      <td>2002.0</td>\n",
       "      <td>4.0</td>\n",
       "      <td>11598.824</td>\n",
       "      <td>8080.6</td>\n",
       "      <td>1813.219</td>\n",
       "      <td>799.967</td>\n",
       "      <td>8649.6</td>\n",
       "      <td>182.600</td>\n",
       "      <td>1226.8</td>\n",
       "      <td>1.20</td>\n",
       "      <td>5.8</td>\n",
       "      <td>289.421</td>\n",
       "      <td>3.08</td>\n",
       "      <td>-1.88</td>\n",
       "    </tr>\n",
       "    <tr>\n",
       "      <th>2003-01</th>\n",
       "      <td>2003.0</td>\n",
       "      <td>1.0</td>\n",
       "      <td>11645.819</td>\n",
       "      <td>8122.3</td>\n",
       "      <td>1813.141</td>\n",
       "      <td>800.196</td>\n",
       "      <td>8681.3</td>\n",
       "      <td>183.200</td>\n",
       "      <td>1248.4</td>\n",
       "      <td>1.14</td>\n",
       "      <td>5.9</td>\n",
       "      <td>290.019</td>\n",
       "      <td>1.31</td>\n",
       "      <td>-0.17</td>\n",
       "    </tr>\n",
       "    <tr>\n",
       "      <th>2003-02</th>\n",
       "      <td>2003.0</td>\n",
       "      <td>2.0</td>\n",
       "      <td>11738.706</td>\n",
       "      <td>8197.8</td>\n",
       "      <td>1823.698</td>\n",
       "      <td>838.775</td>\n",
       "      <td>8812.5</td>\n",
       "      <td>183.700</td>\n",
       "      <td>1287.9</td>\n",
       "      <td>0.96</td>\n",
       "      <td>6.2</td>\n",
       "      <td>290.704</td>\n",
       "      <td>1.09</td>\n",
       "      <td>-0.13</td>\n",
       "    </tr>\n",
       "    <tr>\n",
       "      <th>2003-03</th>\n",
       "      <td>2003.0</td>\n",
       "      <td>3.0</td>\n",
       "      <td>11935.461</td>\n",
       "      <td>8312.1</td>\n",
       "      <td>1889.883</td>\n",
       "      <td>839.598</td>\n",
       "      <td>8935.4</td>\n",
       "      <td>184.900</td>\n",
       "      <td>1297.3</td>\n",
       "      <td>0.94</td>\n",
       "      <td>6.1</td>\n",
       "      <td>291.449</td>\n",
       "      <td>2.60</td>\n",
       "      <td>-1.67</td>\n",
       "    </tr>\n",
       "    <tr>\n",
       "      <th>2003-04</th>\n",
       "      <td>2003.0</td>\n",
       "      <td>4.0</td>\n",
       "      <td>12042.817</td>\n",
       "      <td>8358.0</td>\n",
       "      <td>1959.783</td>\n",
       "      <td>845.722</td>\n",
       "      <td>8986.4</td>\n",
       "      <td>186.300</td>\n",
       "      <td>1306.1</td>\n",
       "      <td>0.90</td>\n",
       "      <td>5.8</td>\n",
       "      <td>292.057</td>\n",
       "      <td>3.02</td>\n",
       "      <td>-2.11</td>\n",
       "    </tr>\n",
       "    <tr>\n",
       "      <th>2004-01</th>\n",
       "      <td>2004.0</td>\n",
       "      <td>1.0</td>\n",
       "      <td>12127.623</td>\n",
       "      <td>8437.6</td>\n",
       "      <td>1970.015</td>\n",
       "      <td>856.570</td>\n",
       "      <td>9025.9</td>\n",
       "      <td>187.400</td>\n",
       "      <td>1332.1</td>\n",
       "      <td>0.94</td>\n",
       "      <td>5.7</td>\n",
       "      <td>292.635</td>\n",
       "      <td>2.35</td>\n",
       "      <td>-1.42</td>\n",
       "    </tr>\n",
       "    <tr>\n",
       "      <th>2004-02</th>\n",
       "      <td>2004.0</td>\n",
       "      <td>2.0</td>\n",
       "      <td>12213.818</td>\n",
       "      <td>8483.2</td>\n",
       "      <td>2055.580</td>\n",
       "      <td>861.440</td>\n",
       "      <td>9115.0</td>\n",
       "      <td>189.100</td>\n",
       "      <td>1340.5</td>\n",
       "      <td>1.21</td>\n",
       "      <td>5.6</td>\n",
       "      <td>293.310</td>\n",
       "      <td>3.61</td>\n",
       "      <td>-2.41</td>\n",
       "    </tr>\n",
       "    <tr>\n",
       "      <th>2004-03</th>\n",
       "      <td>2004.0</td>\n",
       "      <td>3.0</td>\n",
       "      <td>12303.533</td>\n",
       "      <td>8555.8</td>\n",
       "      <td>2082.231</td>\n",
       "      <td>876.385</td>\n",
       "      <td>9175.9</td>\n",
       "      <td>190.800</td>\n",
       "      <td>1361.0</td>\n",
       "      <td>1.63</td>\n",
       "      <td>5.4</td>\n",
       "      <td>294.066</td>\n",
       "      <td>3.58</td>\n",
       "      <td>-1.95</td>\n",
       "    </tr>\n",
       "    <tr>\n",
       "      <th>2004-04</th>\n",
       "      <td>2004.0</td>\n",
       "      <td>4.0</td>\n",
       "      <td>12410.282</td>\n",
       "      <td>8654.2</td>\n",
       "      <td>2125.152</td>\n",
       "      <td>865.596</td>\n",
       "      <td>9303.4</td>\n",
       "      <td>191.800</td>\n",
       "      <td>1366.6</td>\n",
       "      <td>2.20</td>\n",
       "      <td>5.4</td>\n",
       "      <td>294.741</td>\n",
       "      <td>2.09</td>\n",
       "      <td>0.11</td>\n",
       "    </tr>\n",
       "    <tr>\n",
       "      <th>2005-01</th>\n",
       "      <td>2005.0</td>\n",
       "      <td>1.0</td>\n",
       "      <td>12534.113</td>\n",
       "      <td>8719.0</td>\n",
       "      <td>2170.299</td>\n",
       "      <td>869.204</td>\n",
       "      <td>9189.6</td>\n",
       "      <td>193.800</td>\n",
       "      <td>1357.8</td>\n",
       "      <td>2.69</td>\n",
       "      <td>5.3</td>\n",
       "      <td>295.308</td>\n",
       "      <td>4.15</td>\n",
       "      <td>-1.46</td>\n",
       "    </tr>\n",
       "    <tr>\n",
       "      <th>2005-02</th>\n",
       "      <td>2005.0</td>\n",
       "      <td>2.0</td>\n",
       "      <td>12587.535</td>\n",
       "      <td>8802.9</td>\n",
       "      <td>2131.468</td>\n",
       "      <td>870.044</td>\n",
       "      <td>9253.0</td>\n",
       "      <td>194.700</td>\n",
       "      <td>1366.6</td>\n",
       "      <td>3.01</td>\n",
       "      <td>5.1</td>\n",
       "      <td>295.994</td>\n",
       "      <td>1.85</td>\n",
       "      <td>1.16</td>\n",
       "    </tr>\n",
       "    <tr>\n",
       "      <th>2005-03</th>\n",
       "      <td>2005.0</td>\n",
       "      <td>3.0</td>\n",
       "      <td>12683.153</td>\n",
       "      <td>8865.6</td>\n",
       "      <td>2154.949</td>\n",
       "      <td>890.394</td>\n",
       "      <td>9308.0</td>\n",
       "      <td>199.200</td>\n",
       "      <td>1375.0</td>\n",
       "      <td>3.52</td>\n",
       "      <td>5.0</td>\n",
       "      <td>296.770</td>\n",
       "      <td>9.14</td>\n",
       "      <td>-5.62</td>\n",
       "    </tr>\n",
       "    <tr>\n",
       "      <th>2005-04</th>\n",
       "      <td>2005.0</td>\n",
       "      <td>4.0</td>\n",
       "      <td>12748.699</td>\n",
       "      <td>8888.5</td>\n",
       "      <td>2232.193</td>\n",
       "      <td>875.557</td>\n",
       "      <td>9358.7</td>\n",
       "      <td>199.400</td>\n",
       "      <td>1380.6</td>\n",
       "      <td>4.00</td>\n",
       "      <td>4.9</td>\n",
       "      <td>297.435</td>\n",
       "      <td>0.40</td>\n",
       "      <td>3.60</td>\n",
       "    </tr>\n",
       "    <tr>\n",
       "      <th>2006-01</th>\n",
       "      <td>2006.0</td>\n",
       "      <td>1.0</td>\n",
       "      <td>12915.938</td>\n",
       "      <td>8986.6</td>\n",
       "      <td>2264.721</td>\n",
       "      <td>900.511</td>\n",
       "      <td>9533.8</td>\n",
       "      <td>200.700</td>\n",
       "      <td>1380.5</td>\n",
       "      <td>4.51</td>\n",
       "      <td>4.7</td>\n",
       "      <td>298.061</td>\n",
       "      <td>2.60</td>\n",
       "      <td>1.91</td>\n",
       "    </tr>\n",
       "    <tr>\n",
       "      <th>2006-02</th>\n",
       "      <td>2006.0</td>\n",
       "      <td>2.0</td>\n",
       "      <td>12962.462</td>\n",
       "      <td>9035.0</td>\n",
       "      <td>2261.247</td>\n",
       "      <td>892.839</td>\n",
       "      <td>9617.3</td>\n",
       "      <td>202.700</td>\n",
       "      <td>1369.2</td>\n",
       "      <td>4.82</td>\n",
       "      <td>4.7</td>\n",
       "      <td>298.766</td>\n",
       "      <td>3.97</td>\n",
       "      <td>0.85</td>\n",
       "    </tr>\n",
       "    <tr>\n",
       "      <th>2006-03</th>\n",
       "      <td>2006.0</td>\n",
       "      <td>3.0</td>\n",
       "      <td>12965.916</td>\n",
       "      <td>9090.7</td>\n",
       "      <td>2229.636</td>\n",
       "      <td>892.002</td>\n",
       "      <td>9662.5</td>\n",
       "      <td>201.900</td>\n",
       "      <td>1369.4</td>\n",
       "      <td>4.90</td>\n",
       "      <td>4.7</td>\n",
       "      <td>299.593</td>\n",
       "      <td>-1.58</td>\n",
       "      <td>6.48</td>\n",
       "    </tr>\n",
       "    <tr>\n",
       "      <th>2006-04</th>\n",
       "      <td>2006.0</td>\n",
       "      <td>4.0</td>\n",
       "      <td>13060.679</td>\n",
       "      <td>9181.6</td>\n",
       "      <td>2165.966</td>\n",
       "      <td>894.404</td>\n",
       "      <td>9788.8</td>\n",
       "      <td>203.574</td>\n",
       "      <td>1373.6</td>\n",
       "      <td>4.92</td>\n",
       "      <td>4.4</td>\n",
       "      <td>300.320</td>\n",
       "      <td>3.30</td>\n",
       "      <td>1.62</td>\n",
       "    </tr>\n",
       "    <tr>\n",
       "      <th>2007-01</th>\n",
       "      <td>2007.0</td>\n",
       "      <td>1.0</td>\n",
       "      <td>13099.901</td>\n",
       "      <td>9265.1</td>\n",
       "      <td>2132.609</td>\n",
       "      <td>882.766</td>\n",
       "      <td>9830.2</td>\n",
       "      <td>205.920</td>\n",
       "      <td>1379.7</td>\n",
       "      <td>4.95</td>\n",
       "      <td>4.5</td>\n",
       "      <td>300.977</td>\n",
       "      <td>4.58</td>\n",
       "      <td>0.36</td>\n",
       "    </tr>\n",
       "    <tr>\n",
       "      <th>2007-02</th>\n",
       "      <td>2007.0</td>\n",
       "      <td>2.0</td>\n",
       "      <td>13203.977</td>\n",
       "      <td>9291.5</td>\n",
       "      <td>2162.214</td>\n",
       "      <td>898.713</td>\n",
       "      <td>9842.7</td>\n",
       "      <td>207.338</td>\n",
       "      <td>1370.0</td>\n",
       "      <td>4.72</td>\n",
       "      <td>4.5</td>\n",
       "      <td>301.714</td>\n",
       "      <td>2.75</td>\n",
       "      <td>1.97</td>\n",
       "    </tr>\n",
       "    <tr>\n",
       "      <th>2007-03</th>\n",
       "      <td>2007.0</td>\n",
       "      <td>3.0</td>\n",
       "      <td>13321.109</td>\n",
       "      <td>9335.6</td>\n",
       "      <td>2166.491</td>\n",
       "      <td>918.983</td>\n",
       "      <td>9883.9</td>\n",
       "      <td>209.133</td>\n",
       "      <td>1379.2</td>\n",
       "      <td>4.00</td>\n",
       "      <td>4.7</td>\n",
       "      <td>302.509</td>\n",
       "      <td>3.45</td>\n",
       "      <td>0.55</td>\n",
       "    </tr>\n",
       "    <tr>\n",
       "      <th>2007-04</th>\n",
       "      <td>2007.0</td>\n",
       "      <td>4.0</td>\n",
       "      <td>13391.249</td>\n",
       "      <td>9363.6</td>\n",
       "      <td>2123.426</td>\n",
       "      <td>925.110</td>\n",
       "      <td>9886.2</td>\n",
       "      <td>212.495</td>\n",
       "      <td>1377.4</td>\n",
       "      <td>3.01</td>\n",
       "      <td>4.8</td>\n",
       "      <td>303.204</td>\n",
       "      <td>6.38</td>\n",
       "      <td>-3.37</td>\n",
       "    </tr>\n",
       "    <tr>\n",
       "      <th>2008-01</th>\n",
       "      <td>2008.0</td>\n",
       "      <td>1.0</td>\n",
       "      <td>13366.865</td>\n",
       "      <td>9349.6</td>\n",
       "      <td>2082.886</td>\n",
       "      <td>943.372</td>\n",
       "      <td>9826.8</td>\n",
       "      <td>213.997</td>\n",
       "      <td>1384.0</td>\n",
       "      <td>1.56</td>\n",
       "      <td>4.9</td>\n",
       "      <td>303.803</td>\n",
       "      <td>2.82</td>\n",
       "      <td>-1.26</td>\n",
       "    </tr>\n",
       "    <tr>\n",
       "      <th>2008-02</th>\n",
       "      <td>2008.0</td>\n",
       "      <td>2.0</td>\n",
       "      <td>13415.266</td>\n",
       "      <td>9351.0</td>\n",
       "      <td>2026.518</td>\n",
       "      <td>961.280</td>\n",
       "      <td>10059.0</td>\n",
       "      <td>218.610</td>\n",
       "      <td>1409.3</td>\n",
       "      <td>1.74</td>\n",
       "      <td>5.4</td>\n",
       "      <td>304.483</td>\n",
       "      <td>8.53</td>\n",
       "      <td>-6.79</td>\n",
       "    </tr>\n",
       "    <tr>\n",
       "      <th>2008-03</th>\n",
       "      <td>2008.0</td>\n",
       "      <td>3.0</td>\n",
       "      <td>13324.600</td>\n",
       "      <td>9267.7</td>\n",
       "      <td>1990.693</td>\n",
       "      <td>991.551</td>\n",
       "      <td>9838.3</td>\n",
       "      <td>216.889</td>\n",
       "      <td>1474.7</td>\n",
       "      <td>1.17</td>\n",
       "      <td>6.0</td>\n",
       "      <td>305.270</td>\n",
       "      <td>-3.16</td>\n",
       "      <td>4.33</td>\n",
       "    </tr>\n",
       "    <tr>\n",
       "      <th>2008-04</th>\n",
       "      <td>2008.0</td>\n",
       "      <td>4.0</td>\n",
       "      <td>13141.920</td>\n",
       "      <td>9195.3</td>\n",
       "      <td>1857.661</td>\n",
       "      <td>1007.273</td>\n",
       "      <td>9920.4</td>\n",
       "      <td>212.174</td>\n",
       "      <td>1576.5</td>\n",
       "      <td>0.12</td>\n",
       "      <td>6.9</td>\n",
       "      <td>305.952</td>\n",
       "      <td>-8.79</td>\n",
       "      <td>8.91</td>\n",
       "    </tr>\n",
       "    <tr>\n",
       "      <th>2009-01</th>\n",
       "      <td>2009.0</td>\n",
       "      <td>1.0</td>\n",
       "      <td>12925.410</td>\n",
       "      <td>9209.2</td>\n",
       "      <td>1558.494</td>\n",
       "      <td>996.287</td>\n",
       "      <td>9926.4</td>\n",
       "      <td>212.671</td>\n",
       "      <td>1592.8</td>\n",
       "      <td>0.22</td>\n",
       "      <td>8.1</td>\n",
       "      <td>306.547</td>\n",
       "      <td>0.94</td>\n",
       "      <td>-0.71</td>\n",
       "    </tr>\n",
       "    <tr>\n",
       "      <th>2009-02</th>\n",
       "      <td>2009.0</td>\n",
       "      <td>2.0</td>\n",
       "      <td>12901.504</td>\n",
       "      <td>9189.0</td>\n",
       "      <td>1456.678</td>\n",
       "      <td>1023.528</td>\n",
       "      <td>10077.5</td>\n",
       "      <td>214.469</td>\n",
       "      <td>1653.6</td>\n",
       "      <td>0.18</td>\n",
       "      <td>9.2</td>\n",
       "      <td>307.226</td>\n",
       "      <td>3.37</td>\n",
       "      <td>-3.19</td>\n",
       "    </tr>\n",
       "    <tr>\n",
       "      <th>2009-03</th>\n",
       "      <td>2009.0</td>\n",
       "      <td>3.0</td>\n",
       "      <td>12990.341</td>\n",
       "      <td>9256.0</td>\n",
       "      <td>1486.398</td>\n",
       "      <td>1044.088</td>\n",
       "      <td>10040.6</td>\n",
       "      <td>216.385</td>\n",
       "      <td>1673.9</td>\n",
       "      <td>0.12</td>\n",
       "      <td>9.6</td>\n",
       "      <td>308.013</td>\n",
       "      <td>3.56</td>\n",
       "      <td>-3.44</td>\n",
       "    </tr>\n",
       "  </tbody>\n",
       "</table>\n",
       "<p>203 rows × 14 columns</p>\n",
       "</div>"
      ],
      "text/plain": [
       "           year  quarter    realgdp  realcons   realinv  realgovt  realdpi  \\\n",
       "1959-01  1959.0      1.0   2710.349    1707.4   286.898   470.045   1886.9   \n",
       "1959-02  1959.0      2.0   2778.801    1733.7   310.859   481.301   1919.7   \n",
       "1959-03  1959.0      3.0   2775.488    1751.8   289.226   491.260   1916.4   \n",
       "1959-04  1959.0      4.0   2785.204    1753.7   299.356   484.052   1931.3   \n",
       "1960-01  1960.0      1.0   2847.699    1770.5   331.722   462.199   1955.5   \n",
       "1960-02  1960.0      2.0   2834.390    1792.9   298.152   460.400   1966.1   \n",
       "1960-03  1960.0      3.0   2839.022    1785.8   296.375   474.676   1967.8   \n",
       "1960-04  1960.0      4.0   2802.616    1788.2   259.764   476.434   1966.6   \n",
       "1961-01  1961.0      1.0   2819.264    1787.7   266.405   475.854   1984.5   \n",
       "1961-02  1961.0      2.0   2872.005    1814.3   286.246   480.328   2014.4   \n",
       "1961-03  1961.0      3.0   2918.419    1823.1   310.227   493.828   2041.9   \n",
       "1961-04  1961.0      4.0   2977.830    1859.6   315.463   502.521   2082.0   \n",
       "1962-01  1962.0      1.0   3031.241    1879.4   334.271   520.960   2101.7   \n",
       "1962-02  1962.0      2.0   3064.709    1902.5   331.039   523.066   2125.2   \n",
       "1962-03  1962.0      3.0   3093.047    1917.9   336.962   538.838   2137.0   \n",
       "1962-04  1962.0      4.0   3100.563    1945.1   325.650   535.912   2154.6   \n",
       "1963-01  1963.0      1.0   3141.087    1958.2   343.721   522.917   2172.5   \n",
       "1963-02  1963.0      2.0   3180.447    1976.9   348.730   518.108   2193.1   \n",
       "1963-03  1963.0      3.0   3240.332    2003.8   360.102   546.893   2217.9   \n",
       "1963-04  1963.0      4.0   3264.967    2020.6   364.534   532.383   2254.6   \n",
       "1964-01  1964.0      1.0   3338.246    2060.5   379.523   529.686   2299.6   \n",
       "1964-02  1964.0      2.0   3376.587    2096.7   377.778   526.175   2362.1   \n",
       "1964-03  1964.0      3.0   3422.469    2135.2   386.754   522.008   2392.7   \n",
       "1964-04  1964.0      4.0   3431.957    2141.2   389.910   514.603   2420.4   \n",
       "1965-01  1965.0      1.0   3516.251    2188.8   429.145   508.006   2447.4   \n",
       "1965-02  1965.0      2.0   3563.960    2213.0   429.119   508.931   2474.5   \n",
       "1965-03  1965.0      3.0   3636.285    2251.0   444.444   529.446   2542.6   \n",
       "1965-04  1965.0      4.0   3724.014    2314.3   446.493   544.121   2594.1   \n",
       "1966-01  1966.0      1.0   3815.423    2348.5   484.244   556.593   2618.4   \n",
       "1966-02  1966.0      2.0   3828.124    2354.5   475.408   571.371   2624.7   \n",
       "...         ...      ...        ...       ...       ...       ...      ...   \n",
       "2002-02  2002.0      2.0  11538.770    7997.8  1810.779   774.408   8658.9   \n",
       "2002-03  2002.0      3.0  11596.430    8052.0  1814.531   786.673   8629.2   \n",
       "2002-04  2002.0      4.0  11598.824    8080.6  1813.219   799.967   8649.6   \n",
       "2003-01  2003.0      1.0  11645.819    8122.3  1813.141   800.196   8681.3   \n",
       "2003-02  2003.0      2.0  11738.706    8197.8  1823.698   838.775   8812.5   \n",
       "2003-03  2003.0      3.0  11935.461    8312.1  1889.883   839.598   8935.4   \n",
       "2003-04  2003.0      4.0  12042.817    8358.0  1959.783   845.722   8986.4   \n",
       "2004-01  2004.0      1.0  12127.623    8437.6  1970.015   856.570   9025.9   \n",
       "2004-02  2004.0      2.0  12213.818    8483.2  2055.580   861.440   9115.0   \n",
       "2004-03  2004.0      3.0  12303.533    8555.8  2082.231   876.385   9175.9   \n",
       "2004-04  2004.0      4.0  12410.282    8654.2  2125.152   865.596   9303.4   \n",
       "2005-01  2005.0      1.0  12534.113    8719.0  2170.299   869.204   9189.6   \n",
       "2005-02  2005.0      2.0  12587.535    8802.9  2131.468   870.044   9253.0   \n",
       "2005-03  2005.0      3.0  12683.153    8865.6  2154.949   890.394   9308.0   \n",
       "2005-04  2005.0      4.0  12748.699    8888.5  2232.193   875.557   9358.7   \n",
       "2006-01  2006.0      1.0  12915.938    8986.6  2264.721   900.511   9533.8   \n",
       "2006-02  2006.0      2.0  12962.462    9035.0  2261.247   892.839   9617.3   \n",
       "2006-03  2006.0      3.0  12965.916    9090.7  2229.636   892.002   9662.5   \n",
       "2006-04  2006.0      4.0  13060.679    9181.6  2165.966   894.404   9788.8   \n",
       "2007-01  2007.0      1.0  13099.901    9265.1  2132.609   882.766   9830.2   \n",
       "2007-02  2007.0      2.0  13203.977    9291.5  2162.214   898.713   9842.7   \n",
       "2007-03  2007.0      3.0  13321.109    9335.6  2166.491   918.983   9883.9   \n",
       "2007-04  2007.0      4.0  13391.249    9363.6  2123.426   925.110   9886.2   \n",
       "2008-01  2008.0      1.0  13366.865    9349.6  2082.886   943.372   9826.8   \n",
       "2008-02  2008.0      2.0  13415.266    9351.0  2026.518   961.280  10059.0   \n",
       "2008-03  2008.0      3.0  13324.600    9267.7  1990.693   991.551   9838.3   \n",
       "2008-04  2008.0      4.0  13141.920    9195.3  1857.661  1007.273   9920.4   \n",
       "2009-01  2009.0      1.0  12925.410    9209.2  1558.494   996.287   9926.4   \n",
       "2009-02  2009.0      2.0  12901.504    9189.0  1456.678  1023.528  10077.5   \n",
       "2009-03  2009.0      3.0  12990.341    9256.0  1486.398  1044.088  10040.6   \n",
       "\n",
       "             cpi      m1  tbilrate  unemp      pop  infl  realint  \n",
       "1959-01   28.980   139.7      2.82    5.8  177.146  0.00     0.00  \n",
       "1959-02   29.150   141.7      3.08    5.1  177.830  2.34     0.74  \n",
       "1959-03   29.350   140.5      3.82    5.3  178.657  2.74     1.09  \n",
       "1959-04   29.370   140.0      4.33    5.6  179.386  0.27     4.06  \n",
       "1960-01   29.540   139.6      3.50    5.2  180.007  2.31     1.19  \n",
       "1960-02   29.550   140.2      2.68    5.2  180.671  0.14     2.55  \n",
       "1960-03   29.750   140.9      2.36    5.6  181.528  2.70    -0.34  \n",
       "1960-04   29.840   141.1      2.29    6.3  182.287  1.21     1.08  \n",
       "1961-01   29.810   142.1      2.37    6.8  182.992 -0.40     2.77  \n",
       "1961-02   29.920   142.9      2.29    7.0  183.691  1.47     0.81  \n",
       "1961-03   29.980   144.1      2.32    6.8  184.524  0.80     1.52  \n",
       "1961-04   30.040   145.2      2.60    6.2  185.242  0.80     1.80  \n",
       "1962-01   30.210   146.4      2.73    5.6  185.874  2.26     0.47  \n",
       "1962-02   30.220   146.5      2.78    5.5  186.538  0.13     2.65  \n",
       "1962-03   30.380   146.7      2.78    5.6  187.323  2.11     0.67  \n",
       "1962-04   30.440   148.3      2.87    5.5  188.013  0.79     2.08  \n",
       "1963-01   30.480   149.7      2.90    5.8  188.580  0.53     2.38  \n",
       "1963-02   30.690   151.3      3.03    5.7  189.242  2.75     0.29  \n",
       "1963-03   30.750   152.6      3.38    5.5  190.028  0.78     2.60  \n",
       "1963-04   30.940   153.7      3.52    5.6  190.668  2.46     1.06  \n",
       "1964-01   30.950   154.8      3.51    5.5  191.245  0.13     3.38  \n",
       "1964-02   31.020   156.8      3.47    5.2  191.889  0.90     2.57  \n",
       "1964-03   31.120   159.2      3.53    5.0  192.631  1.29     2.25  \n",
       "1964-04   31.280   160.7      3.76    5.0  193.223  2.05     1.71  \n",
       "1965-01   31.380   162.0      3.93    4.9  193.709  1.28     2.65  \n",
       "1965-02   31.580   163.1      3.84    4.7  194.303  2.54     1.30  \n",
       "1965-03   31.650   166.0      3.93    4.4  194.997  0.89     3.04  \n",
       "1965-04   31.880   169.1      4.35    4.1  195.539  2.90     1.46  \n",
       "1966-01   32.280   171.8      4.62    3.9  195.999  4.99    -0.37  \n",
       "1966-02   32.450   170.3      4.65    3.8  196.560  2.10     2.55  \n",
       "...          ...     ...       ...    ...      ...   ...      ...  \n",
       "2002-02  180.000  1199.5      1.70    5.8  288.028  1.56     0.14  \n",
       "2002-03  181.200  1204.0      1.61    5.7  288.783  2.66    -1.05  \n",
       "2002-04  182.600  1226.8      1.20    5.8  289.421  3.08    -1.88  \n",
       "2003-01  183.200  1248.4      1.14    5.9  290.019  1.31    -0.17  \n",
       "2003-02  183.700  1287.9      0.96    6.2  290.704  1.09    -0.13  \n",
       "2003-03  184.900  1297.3      0.94    6.1  291.449  2.60    -1.67  \n",
       "2003-04  186.300  1306.1      0.90    5.8  292.057  3.02    -2.11  \n",
       "2004-01  187.400  1332.1      0.94    5.7  292.635  2.35    -1.42  \n",
       "2004-02  189.100  1340.5      1.21    5.6  293.310  3.61    -2.41  \n",
       "2004-03  190.800  1361.0      1.63    5.4  294.066  3.58    -1.95  \n",
       "2004-04  191.800  1366.6      2.20    5.4  294.741  2.09     0.11  \n",
       "2005-01  193.800  1357.8      2.69    5.3  295.308  4.15    -1.46  \n",
       "2005-02  194.700  1366.6      3.01    5.1  295.994  1.85     1.16  \n",
       "2005-03  199.200  1375.0      3.52    5.0  296.770  9.14    -5.62  \n",
       "2005-04  199.400  1380.6      4.00    4.9  297.435  0.40     3.60  \n",
       "2006-01  200.700  1380.5      4.51    4.7  298.061  2.60     1.91  \n",
       "2006-02  202.700  1369.2      4.82    4.7  298.766  3.97     0.85  \n",
       "2006-03  201.900  1369.4      4.90    4.7  299.593 -1.58     6.48  \n",
       "2006-04  203.574  1373.6      4.92    4.4  300.320  3.30     1.62  \n",
       "2007-01  205.920  1379.7      4.95    4.5  300.977  4.58     0.36  \n",
       "2007-02  207.338  1370.0      4.72    4.5  301.714  2.75     1.97  \n",
       "2007-03  209.133  1379.2      4.00    4.7  302.509  3.45     0.55  \n",
       "2007-04  212.495  1377.4      3.01    4.8  303.204  6.38    -3.37  \n",
       "2008-01  213.997  1384.0      1.56    4.9  303.803  2.82    -1.26  \n",
       "2008-02  218.610  1409.3      1.74    5.4  304.483  8.53    -6.79  \n",
       "2008-03  216.889  1474.7      1.17    6.0  305.270 -3.16     4.33  \n",
       "2008-04  212.174  1576.5      0.12    6.9  305.952 -8.79     8.91  \n",
       "2009-01  212.671  1592.8      0.22    8.1  306.547  0.94    -0.71  \n",
       "2009-02  214.469  1653.6      0.18    9.2  307.226  3.37    -3.19  \n",
       "2009-03  216.385  1673.9      0.12    9.6  308.013  3.56    -3.44  \n",
       "\n",
       "[203 rows x 14 columns]"
      ]
     },
     "execution_count": 82,
     "metadata": {},
     "output_type": "execute_result"
    }
   ],
   "source": [
    "data"
   ]
  },
  {
   "cell_type": "markdown",
   "metadata": {},
   "source": []
  },
  {
   "cell_type": "code",
   "execution_count": 85,
   "metadata": {},
   "outputs": [
    {
     "data": {
      "text/plain": [
       "2000-01-01    0.634600\n",
       "2000-01-02    0.127044\n",
       "2000-01-03    0.416883\n",
       "2000-01-04    0.316700\n",
       "2000-01-05    0.467694\n",
       "2000-01-06    0.173751\n",
       "2000-01-07    0.928199\n",
       "2000-01-08    0.586184\n",
       "2000-01-09    0.552928\n",
       "2000-01-10    0.353460\n",
       "2000-01-11    0.593513\n",
       "2000-01-12    0.073784\n",
       "2000-01-13    0.007891\n",
       "2000-01-14    0.768521\n",
       "2000-01-15    0.855971\n",
       "2000-01-16    0.171743\n",
       "2000-01-17    0.322061\n",
       "2000-01-18    0.159524\n",
       "2000-01-19    0.089222\n",
       "2000-01-20    0.267068\n",
       "2000-01-21    0.013451\n",
       "2000-01-22    0.155105\n",
       "2000-01-23    0.675314\n",
       "2000-01-24    0.029941\n",
       "2000-01-25    0.504725\n",
       "2000-01-26    0.815701\n",
       "2000-01-27    0.906821\n",
       "2000-01-28    0.477004\n",
       "2000-01-29    0.860249\n",
       "2000-01-30    0.371323\n",
       "                ...   \n",
       "2000-03-11    0.176899\n",
       "2000-03-12    0.604424\n",
       "2000-03-13    0.059809\n",
       "2000-03-14    0.041032\n",
       "2000-03-15    0.660679\n",
       "2000-03-16    0.958603\n",
       "2000-03-17    0.958540\n",
       "2000-03-18    0.476094\n",
       "2000-03-19    0.104598\n",
       "2000-03-20    0.069426\n",
       "2000-03-21    0.683584\n",
       "2000-03-22    0.571693\n",
       "2000-03-23    0.166496\n",
       "2000-03-24    0.985239\n",
       "2000-03-25    0.388693\n",
       "2000-03-26    0.903672\n",
       "2000-03-27    0.560392\n",
       "2000-03-28    0.871973\n",
       "2000-03-29    0.989341\n",
       "2000-03-30    0.252656\n",
       "2000-03-31    0.943476\n",
       "2000-04-01    0.698686\n",
       "2000-04-02    0.308973\n",
       "2000-04-03    0.563326\n",
       "2000-04-04    0.363314\n",
       "2000-04-05    0.788935\n",
       "2000-04-06    0.376162\n",
       "2000-04-07    0.110644\n",
       "2000-04-08    0.543204\n",
       "2000-04-09    0.636114\n",
       "Freq: D, Length: 100, dtype: float64"
      ]
     },
     "execution_count": 85,
     "metadata": {},
     "output_type": "execute_result"
    }
   ],
   "source": [
    "rng = pd.date_range('2000-01-01', periods=100, freq='D')\n",
    "ts = pd.Series(np.random.rand(len(rng)),index=rng)\n",
    "ts"
   ]
  },
  {
   "cell_type": "code",
   "execution_count": 92,
   "metadata": {},
   "outputs": [
    {
     "data": {
      "text/plain": [
       "2000-01-31    0.920309\n",
       "2000-02-29    0.964524\n",
       "2000-03-31    0.986246\n",
       "2000-04-30    0.678291\n",
       "Freq: M, dtype: float64"
      ]
     },
     "execution_count": 92,
     "metadata": {},
     "output_type": "execute_result"
    }
   ],
   "source": [
    "f =lambda x:x.max() - x.min()\n",
    "ts.resample('M').apply(f)"
   ]
  },
  {
   "cell_type": "code",
   "execution_count": 93,
   "metadata": {},
   "outputs": [
    {
     "data": {
      "text/plain": [
       "2000-01-01 00:00:00     0\n",
       "2000-01-01 00:01:00     1\n",
       "2000-01-01 00:02:00     2\n",
       "2000-01-01 00:03:00     3\n",
       "2000-01-01 00:04:00     4\n",
       "2000-01-01 00:05:00     5\n",
       "2000-01-01 00:06:00     6\n",
       "2000-01-01 00:07:00     7\n",
       "2000-01-01 00:08:00     8\n",
       "2000-01-01 00:09:00     9\n",
       "2000-01-01 00:10:00    10\n",
       "2000-01-01 00:11:00    11\n",
       "Freq: T, dtype: int32"
      ]
     },
     "execution_count": 93,
     "metadata": {},
     "output_type": "execute_result"
    }
   ],
   "source": [
    "rng = pd.date_range('2000-01-01', periods=12, freq='T')\n",
    "\n",
    "ts = pd.Series(np.arange(12), index=rng)\n",
    "ts"
   ]
  },
  {
   "cell_type": "code",
   "execution_count": 108,
   "metadata": {},
   "outputs": [
    {
     "data": {
      "text/html": [
       "<div>\n",
       "<style scoped>\n",
       "    .dataframe tbody tr th:only-of-type {\n",
       "        vertical-align: middle;\n",
       "    }\n",
       "\n",
       "    .dataframe tbody tr th {\n",
       "        vertical-align: top;\n",
       "    }\n",
       "\n",
       "    .dataframe thead th {\n",
       "        text-align: right;\n",
       "    }\n",
       "</style>\n",
       "<table border=\"1\" class=\"dataframe\">\n",
       "  <thead>\n",
       "    <tr style=\"text-align: right;\">\n",
       "      <th></th>\n",
       "      <th>open</th>\n",
       "      <th>high</th>\n",
       "      <th>low</th>\n",
       "      <th>close</th>\n",
       "    </tr>\n",
       "  </thead>\n",
       "  <tbody>\n",
       "    <tr>\n",
       "      <th>1999-12-31 23:59:59</th>\n",
       "      <td>0</td>\n",
       "      <td>4</td>\n",
       "      <td>0</td>\n",
       "      <td>4</td>\n",
       "    </tr>\n",
       "    <tr>\n",
       "      <th>2000-01-01 00:04:59</th>\n",
       "      <td>5</td>\n",
       "      <td>9</td>\n",
       "      <td>5</td>\n",
       "      <td>9</td>\n",
       "    </tr>\n",
       "    <tr>\n",
       "      <th>2000-01-01 00:09:59</th>\n",
       "      <td>10</td>\n",
       "      <td>11</td>\n",
       "      <td>10</td>\n",
       "      <td>11</td>\n",
       "    </tr>\n",
       "  </tbody>\n",
       "</table>\n",
       "</div>"
      ],
      "text/plain": [
       "                     open  high  low  close\n",
       "1999-12-31 23:59:59     0     4    0      4\n",
       "2000-01-01 00:04:59     5     9    5      9\n",
       "2000-01-01 00:09:59    10    11   10     11"
      ]
     },
     "execution_count": 108,
     "metadata": {},
     "output_type": "execute_result"
    }
   ],
   "source": [
    "ts.resample('5T',closed='left',loffset='-1s',label='left').ohlc()"
   ]
  },
  {
   "cell_type": "code",
   "execution_count": 116,
   "metadata": {},
   "outputs": [
    {
     "data": {
      "text/html": [
       "<div>\n",
       "<style scoped>\n",
       "    .dataframe tbody tr th:only-of-type {\n",
       "        vertical-align: middle;\n",
       "    }\n",
       "\n",
       "    .dataframe tbody tr th {\n",
       "        vertical-align: top;\n",
       "    }\n",
       "\n",
       "    .dataframe thead th {\n",
       "        text-align: right;\n",
       "    }\n",
       "</style>\n",
       "<table border=\"1\" class=\"dataframe\">\n",
       "  <thead>\n",
       "    <tr style=\"text-align: right;\">\n",
       "      <th></th>\n",
       "      <th>Colorado</th>\n",
       "      <th>Texas</th>\n",
       "      <th>New York</th>\n",
       "      <th>Ohio</th>\n",
       "    </tr>\n",
       "  </thead>\n",
       "  <tbody>\n",
       "    <tr>\n",
       "      <th>2000-01-05</th>\n",
       "      <td>1.138777</td>\n",
       "      <td>1.166892</td>\n",
       "      <td>-1.035090</td>\n",
       "      <td>-0.355413</td>\n",
       "    </tr>\n",
       "    <tr>\n",
       "      <th>2000-01-12</th>\n",
       "      <td>0.921269</td>\n",
       "      <td>0.246737</td>\n",
       "      <td>-1.341434</td>\n",
       "      <td>0.158462</td>\n",
       "    </tr>\n",
       "  </tbody>\n",
       "</table>\n",
       "</div>"
      ],
      "text/plain": [
       "            Colorado     Texas  New York      Ohio\n",
       "2000-01-05  1.138777  1.166892 -1.035090 -0.355413\n",
       "2000-01-12  0.921269  0.246737 -1.341434  0.158462"
      ]
     },
     "execution_count": 116,
     "metadata": {},
     "output_type": "execute_result"
    }
   ],
   "source": [
    "frame = pd.DataFrame(np.random.randn(2, 4),\n",
    "   .....:                      index=pd.date_range('1/1/2000', periods=2,\n",
    "   .....:                                          freq='W-WED'),\n",
    "   .....:                      columns=['Colorado', 'Texas', 'New York', 'Ohio'])\n",
    "frame"
   ]
  },
  {
   "cell_type": "code",
   "execution_count": 115,
   "metadata": {},
   "outputs": [
    {
     "data": {
      "text/html": [
       "<div>\n",
       "<style scoped>\n",
       "    .dataframe tbody tr th:only-of-type {\n",
       "        vertical-align: middle;\n",
       "    }\n",
       "\n",
       "    .dataframe tbody tr th {\n",
       "        vertical-align: top;\n",
       "    }\n",
       "\n",
       "    .dataframe thead th {\n",
       "        text-align: right;\n",
       "    }\n",
       "</style>\n",
       "<table border=\"1\" class=\"dataframe\">\n",
       "  <thead>\n",
       "    <tr style=\"text-align: right;\">\n",
       "      <th></th>\n",
       "      <th>Colorado</th>\n",
       "      <th>Texas</th>\n",
       "      <th>New York</th>\n",
       "      <th>Ohio</th>\n",
       "    </tr>\n",
       "  </thead>\n",
       "  <tbody>\n",
       "    <tr>\n",
       "      <th>2000-01-06</th>\n",
       "      <td>-1.379607</td>\n",
       "      <td>0.361381</td>\n",
       "      <td>0.125082</td>\n",
       "      <td>1.956149</td>\n",
       "    </tr>\n",
       "    <tr>\n",
       "      <th>2000-01-13</th>\n",
       "      <td>-0.534027</td>\n",
       "      <td>0.185559</td>\n",
       "      <td>-0.509167</td>\n",
       "      <td>0.903405</td>\n",
       "    </tr>\n",
       "  </tbody>\n",
       "</table>\n",
       "</div>"
      ],
      "text/plain": [
       "            Colorado     Texas  New York      Ohio\n",
       "2000-01-06 -1.379607  0.361381  0.125082  1.956149\n",
       "2000-01-13 -0.534027  0.185559 -0.509167  0.903405"
      ]
     },
     "execution_count": 115,
     "metadata": {},
     "output_type": "execute_result"
    }
   ],
   "source": [
    "frame.resample('W-THU').ffill()"
   ]
  },
  {
   "cell_type": "code",
   "execution_count": 119,
   "metadata": {},
   "outputs": [
    {
     "data": {
      "text/html": [
       "<div>\n",
       "<style scoped>\n",
       "    .dataframe tbody tr th:only-of-type {\n",
       "        vertical-align: middle;\n",
       "    }\n",
       "\n",
       "    .dataframe tbody tr th {\n",
       "        vertical-align: top;\n",
       "    }\n",
       "\n",
       "    .dataframe thead th {\n",
       "        text-align: right;\n",
       "    }\n",
       "</style>\n",
       "<table border=\"1\" class=\"dataframe\">\n",
       "  <thead>\n",
       "    <tr style=\"text-align: right;\">\n",
       "      <th></th>\n",
       "      <th>Colorado</th>\n",
       "      <th>Texas</th>\n",
       "      <th>New York</th>\n",
       "      <th>Ohio</th>\n",
       "    </tr>\n",
       "  </thead>\n",
       "  <tbody>\n",
       "    <tr>\n",
       "      <th>2000-01</th>\n",
       "      <td>2.097392</td>\n",
       "      <td>-0.583374</td>\n",
       "      <td>-1.985980</td>\n",
       "      <td>-0.862925</td>\n",
       "    </tr>\n",
       "    <tr>\n",
       "      <th>2000-02</th>\n",
       "      <td>-0.153146</td>\n",
       "      <td>-0.325338</td>\n",
       "      <td>1.392050</td>\n",
       "      <td>-1.108292</td>\n",
       "    </tr>\n",
       "    <tr>\n",
       "      <th>2000-03</th>\n",
       "      <td>-0.775161</td>\n",
       "      <td>-0.233111</td>\n",
       "      <td>-1.365286</td>\n",
       "      <td>1.675294</td>\n",
       "    </tr>\n",
       "    <tr>\n",
       "      <th>2000-04</th>\n",
       "      <td>-0.352035</td>\n",
       "      <td>-0.227120</td>\n",
       "      <td>-0.823262</td>\n",
       "      <td>0.757625</td>\n",
       "    </tr>\n",
       "    <tr>\n",
       "      <th>2000-05</th>\n",
       "      <td>0.351096</td>\n",
       "      <td>-0.710716</td>\n",
       "      <td>-0.680040</td>\n",
       "      <td>-0.967942</td>\n",
       "    </tr>\n",
       "  </tbody>\n",
       "</table>\n",
       "</div>"
      ],
      "text/plain": [
       "         Colorado     Texas  New York      Ohio\n",
       "2000-01  2.097392 -0.583374 -1.985980 -0.862925\n",
       "2000-02 -0.153146 -0.325338  1.392050 -1.108292\n",
       "2000-03 -0.775161 -0.233111 -1.365286  1.675294\n",
       "2000-04 -0.352035 -0.227120 -0.823262  0.757625\n",
       "2000-05  0.351096 -0.710716 -0.680040 -0.967942"
      ]
     },
     "execution_count": 119,
     "metadata": {},
     "output_type": "execute_result"
    }
   ],
   "source": [
    "frame = pd.DataFrame(np.random.randn(24, 4),\n",
    "   .....:                      index=pd.period_range('1-2000', '12-2001',\n",
    "   .....:                                            freq='M'),\n",
    "   .....:                      columns=['Colorado', 'Texas', 'New York', 'Ohio'])\n",
    "frame.head()"
   ]
  },
  {
   "cell_type": "code",
   "execution_count": 123,
   "metadata": {},
   "outputs": [
    {
     "data": {
      "text/html": [
       "<div>\n",
       "<style scoped>\n",
       "    .dataframe tbody tr th:only-of-type {\n",
       "        vertical-align: middle;\n",
       "    }\n",
       "\n",
       "    .dataframe tbody tr th {\n",
       "        vertical-align: top;\n",
       "    }\n",
       "\n",
       "    .dataframe thead th {\n",
       "        text-align: right;\n",
       "    }\n",
       "</style>\n",
       "<table border=\"1\" class=\"dataframe\">\n",
       "  <thead>\n",
       "    <tr style=\"text-align: right;\">\n",
       "      <th></th>\n",
       "      <th>Colorado</th>\n",
       "      <th>Texas</th>\n",
       "      <th>New York</th>\n",
       "      <th>Ohio</th>\n",
       "    </tr>\n",
       "  </thead>\n",
       "  <tbody>\n",
       "    <tr>\n",
       "      <th>2000Q4</th>\n",
       "      <td>2.097392</td>\n",
       "      <td>-0.583374</td>\n",
       "      <td>-1.985980</td>\n",
       "      <td>-0.862925</td>\n",
       "    </tr>\n",
       "    <tr>\n",
       "      <th>2001Q1</th>\n",
       "      <td>-0.426781</td>\n",
       "      <td>-0.261857</td>\n",
       "      <td>-0.265499</td>\n",
       "      <td>0.441542</td>\n",
       "    </tr>\n",
       "    <tr>\n",
       "      <th>2001Q2</th>\n",
       "      <td>-0.277000</td>\n",
       "      <td>-0.050265</td>\n",
       "      <td>-0.385630</td>\n",
       "      <td>0.166288</td>\n",
       "    </tr>\n",
       "    <tr>\n",
       "      <th>2001Q3</th>\n",
       "      <td>-0.449862</td>\n",
       "      <td>-0.648811</td>\n",
       "      <td>1.392002</td>\n",
       "      <td>-0.285416</td>\n",
       "    </tr>\n",
       "    <tr>\n",
       "      <th>2001Q4</th>\n",
       "      <td>0.400681</td>\n",
       "      <td>0.258901</td>\n",
       "      <td>-0.026578</td>\n",
       "      <td>0.399781</td>\n",
       "    </tr>\n",
       "    <tr>\n",
       "      <th>2002Q1</th>\n",
       "      <td>0.756520</td>\n",
       "      <td>-0.326490</td>\n",
       "      <td>0.793379</td>\n",
       "      <td>0.145491</td>\n",
       "    </tr>\n",
       "    <tr>\n",
       "      <th>2002Q2</th>\n",
       "      <td>-0.940823</td>\n",
       "      <td>0.079371</td>\n",
       "      <td>-0.652094</td>\n",
       "      <td>-0.555672</td>\n",
       "    </tr>\n",
       "    <tr>\n",
       "      <th>2002Q3</th>\n",
       "      <td>-0.057508</td>\n",
       "      <td>0.229855</td>\n",
       "      <td>0.309051</td>\n",
       "      <td>0.800304</td>\n",
       "    </tr>\n",
       "    <tr>\n",
       "      <th>2002Q4</th>\n",
       "      <td>0.579510</td>\n",
       "      <td>-0.253786</td>\n",
       "      <td>-0.492954</td>\n",
       "      <td>0.529734</td>\n",
       "    </tr>\n",
       "  </tbody>\n",
       "</table>\n",
       "</div>"
      ],
      "text/plain": [
       "        Colorado     Texas  New York      Ohio\n",
       "2000Q4  2.097392 -0.583374 -1.985980 -0.862925\n",
       "2001Q1 -0.426781 -0.261857 -0.265499  0.441542\n",
       "2001Q2 -0.277000 -0.050265 -0.385630  0.166288\n",
       "2001Q3 -0.449862 -0.648811  1.392002 -0.285416\n",
       "2001Q4  0.400681  0.258901 -0.026578  0.399781\n",
       "2002Q1  0.756520 -0.326490  0.793379  0.145491\n",
       "2002Q2 -0.940823  0.079371 -0.652094 -0.555672\n",
       "2002Q3 -0.057508  0.229855  0.309051  0.800304\n",
       "2002Q4  0.579510 -0.253786 -0.492954  0.529734"
      ]
     },
     "execution_count": 123,
     "metadata": {},
     "output_type": "execute_result"
    }
   ],
   "source": [
    "frame.resample('Q-JAN').mean()"
   ]
  },
  {
   "cell_type": "code",
   "execution_count": 124,
   "metadata": {},
   "outputs": [],
   "source": [
    "close_px_all = pd.read_csv(r'C:\\Users\\ashwi\\Desktop\\Ashwin\\pydata-book\\examples/stock_px_2.csv',\n",
    "   .....:                            parse_dates=True, index_col=0)"
   ]
  },
  {
   "cell_type": "code",
   "execution_count": 133,
   "metadata": {},
   "outputs": [
    {
     "data": {
      "text/html": [
       "<div>\n",
       "<style scoped>\n",
       "    .dataframe tbody tr th:only-of-type {\n",
       "        vertical-align: middle;\n",
       "    }\n",
       "\n",
       "    .dataframe tbody tr th {\n",
       "        vertical-align: top;\n",
       "    }\n",
       "\n",
       "    .dataframe thead th {\n",
       "        text-align: right;\n",
       "    }\n",
       "</style>\n",
       "<table border=\"1\" class=\"dataframe\">\n",
       "  <thead>\n",
       "    <tr style=\"text-align: right;\">\n",
       "      <th></th>\n",
       "      <th>AAPL</th>\n",
       "      <th>MSFT</th>\n",
       "      <th>XOM</th>\n",
       "      <th>SPX</th>\n",
       "    </tr>\n",
       "  </thead>\n",
       "  <tbody>\n",
       "    <tr>\n",
       "      <th>2003-01-02</th>\n",
       "      <td>7.40</td>\n",
       "      <td>21.11</td>\n",
       "      <td>29.22</td>\n",
       "      <td>909.03</td>\n",
       "    </tr>\n",
       "    <tr>\n",
       "      <th>2003-01-03</th>\n",
       "      <td>7.45</td>\n",
       "      <td>21.14</td>\n",
       "      <td>29.24</td>\n",
       "      <td>908.59</td>\n",
       "    </tr>\n",
       "    <tr>\n",
       "      <th>2003-01-06</th>\n",
       "      <td>7.45</td>\n",
       "      <td>21.52</td>\n",
       "      <td>29.96</td>\n",
       "      <td>929.01</td>\n",
       "    </tr>\n",
       "    <tr>\n",
       "      <th>2003-01-07</th>\n",
       "      <td>7.43</td>\n",
       "      <td>21.93</td>\n",
       "      <td>28.95</td>\n",
       "      <td>922.93</td>\n",
       "    </tr>\n",
       "    <tr>\n",
       "      <th>2003-01-08</th>\n",
       "      <td>7.28</td>\n",
       "      <td>21.31</td>\n",
       "      <td>28.83</td>\n",
       "      <td>909.93</td>\n",
       "    </tr>\n",
       "  </tbody>\n",
       "</table>\n",
       "</div>"
      ],
      "text/plain": [
       "            AAPL   MSFT    XOM     SPX\n",
       "2003-01-02  7.40  21.11  29.22  909.03\n",
       "2003-01-03  7.45  21.14  29.24  908.59\n",
       "2003-01-06  7.45  21.52  29.96  929.01\n",
       "2003-01-07  7.43  21.93  28.95  922.93\n",
       "2003-01-08  7.28  21.31  28.83  909.93"
      ]
     },
     "execution_count": 133,
     "metadata": {},
     "output_type": "execute_result"
    }
   ],
   "source": [
    "close_px_all.head()"
   ]
  },
  {
   "cell_type": "code",
   "execution_count": 131,
   "metadata": {},
   "outputs": [
    {
     "data": {
      "image/png": "[encoded data removed]",
      "text/plain": [
       "<Figure size 432x288 with 1 Axes>"
      ]
     },
     "metadata": {
      "needs_background": "light"
     },
     "output_type": "display_data"
    }
   ],
   "source": [
    "import matplotlib.pyplot as plt\n",
    "close_px_all.AAPL.plot()\n",
    "close_px_all.AAPL.rolling(250).mean().plot()\n",
    "plt.show()"
   ]
  },
  {
   "cell_type": "code",
   "execution_count": 137,
   "metadata": {},
   "outputs": [
    {
     "data": {
      "text/plain": [
       "2003-01-31      7.239048\n",
       "2003-02-28      7.333684\n",
       "2003-03-31      7.299048\n",
       "2003-04-30      6.923810\n",
       "2003-05-31      8.885238\n",
       "2003-06-30      9.089048\n",
       "2003-07-31     10.127273\n",
       "2003-08-31     10.312857\n",
       "2003-09-30     11.077143\n",
       "2003-10-31     11.505217\n",
       "2003-11-30     10.799474\n",
       "2003-12-31     10.336364\n",
       "2004-01-31     11.401500\n",
       "2004-02-29     11.402105\n",
       "2004-03-31     13.099565\n",
       "2004-04-30     13.763333\n",
       "2004-05-31     13.539000\n",
       "2004-06-30     15.666667\n",
       "2004-07-31     15.645238\n",
       "2004-08-31     15.875000\n",
       "2004-09-30     18.342381\n",
       "2004-10-31     22.182857\n",
       "2004-11-30     28.733333\n",
       "2004-12-31     32.250000\n",
       "2005-01-31     34.614500\n",
       "2005-02-28     41.864737\n",
       "2005-03-31     41.997727\n",
       "2005-04-30     38.730952\n",
       "2005-05-31     37.321905\n",
       "2005-06-30     37.590909\n",
       "                 ...    \n",
       "2009-05-31    128.149000\n",
       "2009-06-30    139.528182\n",
       "2009-07-31    149.318182\n",
       "2009-08-31    166.280476\n",
       "2009-09-30    177.786667\n",
       "2009-10-31    192.831364\n",
       "2009-11-30    200.320000\n",
       "2009-12-31    198.954545\n",
       "2010-01-31    207.715263\n",
       "2010-02-28    198.795789\n",
       "2010-03-31    223.410870\n",
       "2010-04-30    251.148571\n",
       "2010-05-31    251.461500\n",
       "2010-06-30    261.145455\n",
       "2010-07-31    254.950000\n",
       "2010-08-31    251.323182\n",
       "2010-09-30    273.850952\n",
       "2010-10-31    300.934286\n",
       "2010-11-30    311.588095\n",
       "2010-12-31    321.485909\n",
       "2011-01-31    338.380000\n",
       "2011-02-28    351.182632\n",
       "2011-03-31    347.490870\n",
       "2011-04-30    340.415500\n",
       "2011-05-31    341.784762\n",
       "2011-06-30    331.081364\n",
       "2011-07-31    372.238000\n",
       "2011-08-31    376.762609\n",
       "2011-09-30    392.493333\n",
       "2011-10-31    389.424000\n",
       "Freq: M, Name: AAPL, Length: 106, dtype: float64"
      ]
     },
     "execution_count": 137,
     "metadata": {},
     "output_type": "execute_result"
    }
   ],
   "source": [
    "close_px_all.AAPL.resample('M').mean()"
   ]
  },
  {
   "cell_type": "code",
   "execution_count": 138,
   "metadata": {},
   "outputs": [
    {
     "data": {
      "text/plain": [
       "2003-01-02          NaN\n",
       "2003-01-03          NaN\n",
       "2003-01-06          NaN\n",
       "2003-01-07          NaN\n",
       "2003-01-08          NaN\n",
       "2003-01-09          NaN\n",
       "2003-01-10          NaN\n",
       "2003-01-13          NaN\n",
       "2003-01-14          NaN\n",
       "2003-01-15          NaN\n",
       "2003-01-16          NaN\n",
       "2003-01-17          NaN\n",
       "2003-01-21          NaN\n",
       "2003-01-22          NaN\n",
       "2003-01-23          NaN\n",
       "2003-01-24          NaN\n",
       "2003-01-27          NaN\n",
       "2003-01-28          NaN\n",
       "2003-01-29          NaN\n",
       "2003-01-30          NaN\n",
       "2003-01-31          NaN\n",
       "2003-02-03          NaN\n",
       "2003-02-04          NaN\n",
       "2003-02-05          NaN\n",
       "2003-02-06          NaN\n",
       "2003-02-07          NaN\n",
       "2003-02-10          NaN\n",
       "2003-02-11          NaN\n",
       "2003-02-12          NaN\n",
       "2003-02-13          NaN\n",
       "                ...    \n",
       "2011-09-02    335.88740\n",
       "2011-09-06    336.35408\n",
       "2011-09-07    336.83616\n",
       "2011-09-08    337.30456\n",
       "2011-09-09    337.74224\n",
       "2011-09-12    338.18112\n",
       "2011-09-13    338.61332\n",
       "2011-09-14    339.06904\n",
       "2011-09-15    339.50796\n",
       "2011-09-16    339.97488\n",
       "2011-09-19    340.47040\n",
       "2011-09-20    340.96852\n",
       "2011-09-21    341.44780\n",
       "2011-09-22    341.89044\n",
       "2011-09-23    342.36020\n",
       "2011-09-26    342.82340\n",
       "2011-09-27    343.28544\n",
       "2011-09-28    343.74340\n",
       "2011-09-29    344.19112\n",
       "2011-09-30    344.56064\n",
       "2011-10-03    344.90228\n",
       "2011-10-04    345.23540\n",
       "2011-10-05    345.57212\n",
       "2011-10-06    345.90016\n",
       "2011-10-07    346.18520\n",
       "2011-10-10    346.53988\n",
       "2011-10-11    346.93180\n",
       "2011-10-12    347.28160\n",
       "2011-10-13    347.64332\n",
       "2011-10-14    348.09336\n",
       "Name: AAPL, Length: 2214, dtype: float64"
      ]
     },
     "execution_count": 138,
     "metadata": {},
     "output_type": "execute_result"
    }
   ],
   "source": [
    "close_px_all.AAPL.rolling(250).mean()"
   ]
  },
  {
   "cell_type": "code",
   "execution_count": 154,
   "metadata": {},
   "outputs": [],
   "source": [
    "import fix_yahoo_finance as fyf\n",
    "import pandas_datareader as pdr\n",
    "data = pdr.get_data_yahoo('GLD', start='2016-11-08',end=datetime.now())"
   ]
  },
  {
   "cell_type": "code",
   "execution_count": 160,
   "metadata": {},
   "outputs": [
    {
     "data": {
      "text/html": [
       "<div>\n",
       "<style scoped>\n",
       "    .dataframe tbody tr th:only-of-type {\n",
       "        vertical-align: middle;\n",
       "    }\n",
       "\n",
       "    .dataframe tbody tr th {\n",
       "        vertical-align: top;\n",
       "    }\n",
       "\n",
       "    .dataframe thead th {\n",
       "        text-align: right;\n",
       "    }\n",
       "</style>\n",
       "<table border=\"1\" class=\"dataframe\">\n",
       "  <thead>\n",
       "    <tr style=\"text-align: right;\">\n",
       "      <th></th>\n",
       "      <th>Close</th>\n",
       "    </tr>\n",
       "    <tr>\n",
       "      <th>Date</th>\n",
       "      <th></th>\n",
       "    </tr>\n",
       "  </thead>\n",
       "  <tbody>\n",
       "    <tr>\n",
       "      <th>2016-11-08</th>\n",
       "      <td>121.639999</td>\n",
       "    </tr>\n",
       "    <tr>\n",
       "      <th>2016-11-09</th>\n",
       "      <td>121.559998</td>\n",
       "    </tr>\n",
       "    <tr>\n",
       "      <th>2016-11-10</th>\n",
       "      <td>119.750000</td>\n",
       "    </tr>\n",
       "    <tr>\n",
       "      <th>2016-11-11</th>\n",
       "      <td>117.099998</td>\n",
       "    </tr>\n",
       "    <tr>\n",
       "      <th>2016-11-14</th>\n",
       "      <td>116.110001</td>\n",
       "    </tr>\n",
       "    <tr>\n",
       "      <th>2016-11-15</th>\n",
       "      <td>117.120003</td>\n",
       "    </tr>\n",
       "    <tr>\n",
       "      <th>2016-11-16</th>\n",
       "      <td>116.769997</td>\n",
       "    </tr>\n",
       "    <tr>\n",
       "      <th>2016-11-17</th>\n",
       "      <td>116.169998</td>\n",
       "    </tr>\n",
       "    <tr>\n",
       "      <th>2016-11-18</th>\n",
       "      <td>115.150002</td>\n",
       "    </tr>\n",
       "    <tr>\n",
       "      <th>2016-11-21</th>\n",
       "      <td>115.580002</td>\n",
       "    </tr>\n",
       "    <tr>\n",
       "      <th>2016-11-22</th>\n",
       "      <td>115.540001</td>\n",
       "    </tr>\n",
       "    <tr>\n",
       "      <th>2016-11-23</th>\n",
       "      <td>113.250000</td>\n",
       "    </tr>\n",
       "    <tr>\n",
       "      <th>2016-11-25</th>\n",
       "      <td>112.610001</td>\n",
       "    </tr>\n",
       "    <tr>\n",
       "      <th>2016-11-28</th>\n",
       "      <td>113.800003</td>\n",
       "    </tr>\n",
       "    <tr>\n",
       "      <th>2016-11-29</th>\n",
       "      <td>113.269997</td>\n",
       "    </tr>\n",
       "    <tr>\n",
       "      <th>2016-11-30</th>\n",
       "      <td>111.750000</td>\n",
       "    </tr>\n",
       "    <tr>\n",
       "      <th>2016-12-01</th>\n",
       "      <td>111.540001</td>\n",
       "    </tr>\n",
       "    <tr>\n",
       "      <th>2016-12-02</th>\n",
       "      <td>112.139999</td>\n",
       "    </tr>\n",
       "    <tr>\n",
       "      <th>2016-12-05</th>\n",
       "      <td>111.540001</td>\n",
       "    </tr>\n",
       "    <tr>\n",
       "      <th>2016-12-06</th>\n",
       "      <td>111.430000</td>\n",
       "    </tr>\n",
       "    <tr>\n",
       "      <th>2016-12-07</th>\n",
       "      <td>111.830002</td>\n",
       "    </tr>\n",
       "    <tr>\n",
       "      <th>2016-12-08</th>\n",
       "      <td>111.570000</td>\n",
       "    </tr>\n",
       "    <tr>\n",
       "      <th>2016-12-09</th>\n",
       "      <td>110.400002</td>\n",
       "    </tr>\n",
       "    <tr>\n",
       "      <th>2016-12-12</th>\n",
       "      <td>110.820000</td>\n",
       "    </tr>\n",
       "    <tr>\n",
       "      <th>2016-12-13</th>\n",
       "      <td>110.449997</td>\n",
       "    </tr>\n",
       "    <tr>\n",
       "      <th>2016-12-14</th>\n",
       "      <td>108.830002</td>\n",
       "    </tr>\n",
       "    <tr>\n",
       "      <th>2016-12-15</th>\n",
       "      <td>107.339996</td>\n",
       "    </tr>\n",
       "    <tr>\n",
       "      <th>2016-12-16</th>\n",
       "      <td>108.050003</td>\n",
       "    </tr>\n",
       "    <tr>\n",
       "      <th>2016-12-19</th>\n",
       "      <td>108.589996</td>\n",
       "    </tr>\n",
       "    <tr>\n",
       "      <th>2016-12-20</th>\n",
       "      <td>107.790001</td>\n",
       "    </tr>\n",
       "    <tr>\n",
       "      <th>...</th>\n",
       "      <td>...</td>\n",
       "    </tr>\n",
       "    <tr>\n",
       "      <th>2019-02-13</th>\n",
       "      <td>123.370003</td>\n",
       "    </tr>\n",
       "    <tr>\n",
       "      <th>2019-02-14</th>\n",
       "      <td>124.059998</td>\n",
       "    </tr>\n",
       "    <tr>\n",
       "      <th>2019-02-15</th>\n",
       "      <td>124.800003</td>\n",
       "    </tr>\n",
       "    <tr>\n",
       "      <th>2019-02-19</th>\n",
       "      <td>126.699997</td>\n",
       "    </tr>\n",
       "    <tr>\n",
       "      <th>2019-02-20</th>\n",
       "      <td>126.480003</td>\n",
       "    </tr>\n",
       "    <tr>\n",
       "      <th>2019-02-21</th>\n",
       "      <td>125.050003</td>\n",
       "    </tr>\n",
       "    <tr>\n",
       "      <th>2019-02-22</th>\n",
       "      <td>125.500000</td>\n",
       "    </tr>\n",
       "    <tr>\n",
       "      <th>2019-02-25</th>\n",
       "      <td>125.370003</td>\n",
       "    </tr>\n",
       "    <tr>\n",
       "      <th>2019-02-26</th>\n",
       "      <td>125.580002</td>\n",
       "    </tr>\n",
       "    <tr>\n",
       "      <th>2019-02-27</th>\n",
       "      <td>124.690002</td>\n",
       "    </tr>\n",
       "    <tr>\n",
       "      <th>2019-02-28</th>\n",
       "      <td>123.989998</td>\n",
       "    </tr>\n",
       "    <tr>\n",
       "      <th>2019-03-01</th>\n",
       "      <td>121.879997</td>\n",
       "    </tr>\n",
       "    <tr>\n",
       "      <th>2019-03-04</th>\n",
       "      <td>121.559998</td>\n",
       "    </tr>\n",
       "    <tr>\n",
       "      <th>2019-03-05</th>\n",
       "      <td>121.720001</td>\n",
       "    </tr>\n",
       "    <tr>\n",
       "      <th>2019-03-06</th>\n",
       "      <td>121.610001</td>\n",
       "    </tr>\n",
       "    <tr>\n",
       "      <th>2019-03-07</th>\n",
       "      <td>121.510002</td>\n",
       "    </tr>\n",
       "    <tr>\n",
       "      <th>2019-03-08</th>\n",
       "      <td>122.839996</td>\n",
       "    </tr>\n",
       "    <tr>\n",
       "      <th>2019-03-11</th>\n",
       "      <td>122.239998</td>\n",
       "    </tr>\n",
       "    <tr>\n",
       "      <th>2019-03-12</th>\n",
       "      <td>122.980003</td>\n",
       "    </tr>\n",
       "    <tr>\n",
       "      <th>2019-03-13</th>\n",
       "      <td>123.839996</td>\n",
       "    </tr>\n",
       "    <tr>\n",
       "      <th>2019-03-14</th>\n",
       "      <td>122.410004</td>\n",
       "    </tr>\n",
       "    <tr>\n",
       "      <th>2019-03-15</th>\n",
       "      <td>122.970001</td>\n",
       "    </tr>\n",
       "    <tr>\n",
       "      <th>2019-03-18</th>\n",
       "      <td>123.040001</td>\n",
       "    </tr>\n",
       "    <tr>\n",
       "      <th>2019-03-19</th>\n",
       "      <td>123.379997</td>\n",
       "    </tr>\n",
       "    <tr>\n",
       "      <th>2019-03-20</th>\n",
       "      <td>124.180000</td>\n",
       "    </tr>\n",
       "    <tr>\n",
       "      <th>2019-03-21</th>\n",
       "      <td>123.680000</td>\n",
       "    </tr>\n",
       "    <tr>\n",
       "      <th>2019-03-22</th>\n",
       "      <td>123.970001</td>\n",
       "    </tr>\n",
       "    <tr>\n",
       "      <th>2019-03-25</th>\n",
       "      <td>124.919998</td>\n",
       "    </tr>\n",
       "    <tr>\n",
       "      <th>2019-03-26</th>\n",
       "      <td>124.300003</td>\n",
       "    </tr>\n",
       "    <tr>\n",
       "      <th>2019-03-27</th>\n",
       "      <td>123.585800</td>\n",
       "    </tr>\n",
       "  </tbody>\n",
       "</table>\n",
       "<p>598 rows × 1 columns</p>\n",
       "</div>"
      ],
      "text/plain": [
       "                 Close\n",
       "Date                  \n",
       "2016-11-08  121.639999\n",
       "2016-11-09  121.559998\n",
       "2016-11-10  119.750000\n",
       "2016-11-11  117.099998\n",
       "2016-11-14  116.110001\n",
       "2016-11-15  117.120003\n",
       "2016-11-16  116.769997\n",
       "2016-11-17  116.169998\n",
       "2016-11-18  115.150002\n",
       "2016-11-21  115.580002\n",
       "2016-11-22  115.540001\n",
       "2016-11-23  113.250000\n",
       "2016-11-25  112.610001\n",
       "2016-11-28  113.800003\n",
       "2016-11-29  113.269997\n",
       "2016-11-30  111.750000\n",
       "2016-12-01  111.540001\n",
       "2016-12-02  112.139999\n",
       "2016-12-05  111.540001\n",
       "2016-12-06  111.430000\n",
       "2016-12-07  111.830002\n",
       "2016-12-08  111.570000\n",
       "2016-12-09  110.400002\n",
       "2016-12-12  110.820000\n",
       "2016-12-13  110.449997\n",
       "2016-12-14  108.830002\n",
       "2016-12-15  107.339996\n",
       "2016-12-16  108.050003\n",
       "2016-12-19  108.589996\n",
       "2016-12-20  107.790001\n",
       "...                ...\n",
       "2019-02-13  123.370003\n",
       "2019-02-14  124.059998\n",
       "2019-02-15  124.800003\n",
       "2019-02-19  126.699997\n",
       "2019-02-20  126.480003\n",
       "2019-02-21  125.050003\n",
       "2019-02-22  125.500000\n",
       "2019-02-25  125.370003\n",
       "2019-02-26  125.580002\n",
       "2019-02-27  124.690002\n",
       "2019-02-28  123.989998\n",
       "2019-03-01  121.879997\n",
       "2019-03-04  121.559998\n",
       "2019-03-05  121.720001\n",
       "2019-03-06  121.610001\n",
       "2019-03-07  121.510002\n",
       "2019-03-08  122.839996\n",
       "2019-03-11  122.239998\n",
       "2019-03-12  122.980003\n",
       "2019-03-13  123.839996\n",
       "2019-03-14  122.410004\n",
       "2019-03-15  122.970001\n",
       "2019-03-18  123.040001\n",
       "2019-03-19  123.379997\n",
       "2019-03-20  124.180000\n",
       "2019-03-21  123.680000\n",
       "2019-03-22  123.970001\n",
       "2019-03-25  124.919998\n",
       "2019-03-26  124.300003\n",
       "2019-03-27  123.585800\n",
       "\n",
       "[598 rows x 1 columns]"
      ]
     },
     "execution_count": 160,
     "metadata": {},
     "output_type": "execute_result"
    }
   ],
   "source": [
    "data_clode = pd.DataFrame(data.Close)\n",
    "data_clode"
   ]
  },
  {
   "cell_type": "code",
   "execution_count": 164,
   "metadata": {},
   "outputs": [
    {
     "data": {
      "text/plain": [
       "<matplotlib.axes._subplots.AxesSubplot at 0x29f397bdef0>"
      ]
     },
     "execution_count": 164,
     "metadata": {},
     "output_type": "execute_result"
    },
    {
     "data": {
      "image/png": "[encoded data removed]",
      "text/plain": [
       "<Figure size 432x288 with 1 Axes>"
      ]
     },
     "metadata": {
      "needs_background": "light"
     },
     "output_type": "display_data"
    }
   ],
   "source": [
    "data_clode.rolling(21).mean().plot(logy = True)"
   ]
  },
  {
   "cell_type": "code",
   "execution_count": 190,
   "metadata": {},
   "outputs": [
    {
     "data": {
      "text/plain": [
       "<matplotlib.legend.Legend at 0x29f3b09ce10>"
      ]
     },
     "execution_count": 190,
     "metadata": {},
     "output_type": "execute_result"
    },
    {
     "data": {
      "image/png": "[encoded data removed]",
      "text/plain": [
       "<Figure size 432x288 with 1 Axes>"
      ]
     },
     "metadata": {
      "needs_background": "light"
     },
     "output_type": "display_data"
    }
   ],
   "source": [
    "fig = plt.figure()\n",
    "ax1 = fig.add_subplot(1,1,1)\n",
    "ma60 = data_clode.ewm(span=30).mean()\n",
    "ewm60 = data_clode.rolling(30, min_periods=20).mean()\n",
    "ax1.plot(ma60 , color = 'r',linestyle = '--')\n",
    "ax1.plot(ewm60)\n",
    "plt.legend(['MA',\"EWM\"])\n"
   ]
  },
  {
   "cell_type": "code",
   "execution_count": 192,
   "metadata": {},
   "outputs": [],
   "source": [
    "spx_px = close_px_all['SPX']\n",
    "spx_rets = spx_px.pct_change()\n",
    "close_px = close_px_all[['AAPL', 'MSFT', 'XOM']]\n",
    "returns = close_px.pct_change()"
   ]
  },
  {
   "cell_type": "code",
   "execution_count": 204,
   "metadata": {},
   "outputs": [],
   "source": [
    "corr = returns.AAPL.rolling(125, min_periods=100).corr(spx_rets)"
   ]
  },
  {
   "cell_type": "code",
   "execution_count": 205,
   "metadata": {},
   "outputs": [
    {
     "data": {
      "text/plain": [
       "<matplotlib.axes._subplots.AxesSubplot at 0x29f39dbfcf8>"
      ]
     },
     "execution_count": 205,
     "metadata": {},
     "output_type": "execute_result"
    },
    {
     "data": {
      "image/png": "[encoded data removed]",
      "text/plain": [
       "<Figure size 432x288 with 1 Axes>"
      ]
     },
     "metadata": {
      "needs_background": "light"
     },
     "output_type": "display_data"
    }
   ],
   "source": [
    "corr.plot()"
   ]
  },
  {
   "cell_type": "code",
   "execution_count": 206,
   "metadata": {},
   "outputs": [
    {
     "data": {
      "text/plain": [
       "<matplotlib.axes._subplots.AxesSubplot at 0x29f3987d898>"
      ]
     },
     "execution_count": 206,
     "metadata": {},
     "output_type": "execute_result"
    },
    {
     "data": {
      "image/png": "[encoded data removed]",
      "text/plain": [
       "<Figure size 432x288 with 1 Axes>"
      ]
     },
     "metadata": {
      "needs_background": "light"
     },
     "output_type": "display_data"
    }
   ],
   "source": [
    "corr = returns.rolling(125, min_periods=100).corr(spx_rets)\n",
    "corr.plot()"
   ]
  },
  {
   "cell_type": "code",
   "execution_count": null,
   "metadata": {},
   "outputs": [],
   "source": []
  }
 ],
 "metadata": {
  "kernelspec": {
   "display_name": "Python 3",
   "language": "python",
   "name": "python3"
  },
  "language_info": {
   "codemirror_mode": {
    "name": "ipython",
    "version": 3
   },
   "file_extension": ".py",
   "mimetype": "text/x-python",
   "name": "python",
   "nbconvert_exporter": "python",
   "pygments_lexer": "ipython3",
   "version": "3.7.0"
  }
 },
 "nbformat": 4,
 "nbformat_minor": 2
}
