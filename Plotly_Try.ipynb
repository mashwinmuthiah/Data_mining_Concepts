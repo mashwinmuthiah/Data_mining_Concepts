{
 "cells": [
  {
   "cell_type": "code",
   "execution_count": 1,
   "metadata": {},
   "outputs": [],
   "source": [
    "import plotly.offline as pyo"
   ]
  },
  {
   "cell_type": "code",
   "execution_count": 2,
   "metadata": {},
   "outputs": [],
   "source": [
    "import pandas as pd\n",
    "import matplotlib.pyplot as plt"
   ]
  },
  {
   "cell_type": "code",
   "execution_count": 3,
   "metadata": {},
   "outputs": [],
   "source": [
    "orders = pd.read_excel(r\"C:\\Users\\ashwi\\Desktop\\Ashwin\\Data_mining_Concepts\\sales.xls\")"
   ]
  },
  {
   "cell_type": "code",
   "execution_count": 5,
   "metadata": {},
   "outputs": [
    {
     "data": {
      "text/html": [
       "<div>\n",
       "<style scoped>\n",
       "    .dataframe tbody tr th:only-of-type {\n",
       "        vertical-align: middle;\n",
       "    }\n",
       "\n",
       "    .dataframe tbody tr th {\n",
       "        vertical-align: top;\n",
       "    }\n",
       "\n",
       "    .dataframe thead th {\n",
       "        text-align: right;\n",
       "    }\n",
       "</style>\n",
       "<table border=\"1\" class=\"dataframe\">\n",
       "  <thead>\n",
       "    <tr style=\"text-align: right;\">\n",
       "      <th></th>\n",
       "      <th>Row ID</th>\n",
       "      <th>Order ID</th>\n",
       "      <th>Order Date</th>\n",
       "      <th>Order Priority</th>\n",
       "      <th>Order Quantity</th>\n",
       "      <th>Sales</th>\n",
       "      <th>Discount</th>\n",
       "      <th>Ship Mode</th>\n",
       "      <th>Profit</th>\n",
       "      <th>Unit Price</th>\n",
       "      <th>Shipping Cost</th>\n",
       "      <th>Customer Name</th>\n",
       "      <th>Province</th>\n",
       "      <th>Region</th>\n",
       "      <th>Customer Segment</th>\n",
       "      <th>Product Category</th>\n",
       "      <th>Product Sub-Category</th>\n",
       "      <th>Product Name</th>\n",
       "      <th>Product Container</th>\n",
       "      <th>Product Base Margin</th>\n",
       "      <th>Ship Date</th>\n",
       "    </tr>\n",
       "  </thead>\n",
       "  <tbody>\n",
       "    <tr>\n",
       "      <th>0</th>\n",
       "      <td>1</td>\n",
       "      <td>3</td>\n",
       "      <td>2010-10-13</td>\n",
       "      <td>Low</td>\n",
       "      <td>6</td>\n",
       "      <td>261.5400</td>\n",
       "      <td>0.04</td>\n",
       "      <td>Regular Air</td>\n",
       "      <td>-213.2500</td>\n",
       "      <td>38.94</td>\n",
       "      <td>35.00</td>\n",
       "      <td>Muhammed MacIntyre</td>\n",
       "      <td>Nunavut</td>\n",
       "      <td>Nunavut</td>\n",
       "      <td>Small Business</td>\n",
       "      <td>Office Supplies</td>\n",
       "      <td>Storage &amp; Organization</td>\n",
       "      <td>Eldon Base for stackable storage shelf, platinum</td>\n",
       "      <td>Large Box</td>\n",
       "      <td>0.80</td>\n",
       "      <td>2010-10-20</td>\n",
       "    </tr>\n",
       "    <tr>\n",
       "      <th>1</th>\n",
       "      <td>49</td>\n",
       "      <td>293</td>\n",
       "      <td>2012-10-01</td>\n",
       "      <td>High</td>\n",
       "      <td>49</td>\n",
       "      <td>10123.0200</td>\n",
       "      <td>0.07</td>\n",
       "      <td>Delivery Truck</td>\n",
       "      <td>457.8100</td>\n",
       "      <td>208.16</td>\n",
       "      <td>68.02</td>\n",
       "      <td>Barry French</td>\n",
       "      <td>Nunavut</td>\n",
       "      <td>Nunavut</td>\n",
       "      <td>Consumer</td>\n",
       "      <td>Office Supplies</td>\n",
       "      <td>Appliances</td>\n",
       "      <td>1.7 Cubic Foot Compact \"Cube\" Office Refrigera...</td>\n",
       "      <td>Jumbo Drum</td>\n",
       "      <td>0.58</td>\n",
       "      <td>2012-10-02</td>\n",
       "    </tr>\n",
       "    <tr>\n",
       "      <th>2</th>\n",
       "      <td>50</td>\n",
       "      <td>293</td>\n",
       "      <td>2012-10-01</td>\n",
       "      <td>High</td>\n",
       "      <td>27</td>\n",
       "      <td>244.5700</td>\n",
       "      <td>0.01</td>\n",
       "      <td>Regular Air</td>\n",
       "      <td>46.7075</td>\n",
       "      <td>8.69</td>\n",
       "      <td>2.99</td>\n",
       "      <td>Barry French</td>\n",
       "      <td>Nunavut</td>\n",
       "      <td>Nunavut</td>\n",
       "      <td>Consumer</td>\n",
       "      <td>Office Supplies</td>\n",
       "      <td>Binders and Binder Accessories</td>\n",
       "      <td>Cardinal Slant-D® Ring Binder, Heavy Gauge Vinyl</td>\n",
       "      <td>Small Box</td>\n",
       "      <td>0.39</td>\n",
       "      <td>2012-10-03</td>\n",
       "    </tr>\n",
       "    <tr>\n",
       "      <th>3</th>\n",
       "      <td>80</td>\n",
       "      <td>483</td>\n",
       "      <td>2011-07-10</td>\n",
       "      <td>High</td>\n",
       "      <td>30</td>\n",
       "      <td>4965.7595</td>\n",
       "      <td>0.08</td>\n",
       "      <td>Regular Air</td>\n",
       "      <td>1198.9710</td>\n",
       "      <td>195.99</td>\n",
       "      <td>3.99</td>\n",
       "      <td>Clay Rozendal</td>\n",
       "      <td>Nunavut</td>\n",
       "      <td>Nunavut</td>\n",
       "      <td>Corporate</td>\n",
       "      <td>Technology</td>\n",
       "      <td>Telephones and Communication</td>\n",
       "      <td>R380</td>\n",
       "      <td>Small Box</td>\n",
       "      <td>0.58</td>\n",
       "      <td>2011-07-12</td>\n",
       "    </tr>\n",
       "    <tr>\n",
       "      <th>4</th>\n",
       "      <td>85</td>\n",
       "      <td>515</td>\n",
       "      <td>2010-08-28</td>\n",
       "      <td>Not Specified</td>\n",
       "      <td>19</td>\n",
       "      <td>394.2700</td>\n",
       "      <td>0.08</td>\n",
       "      <td>Regular Air</td>\n",
       "      <td>30.9400</td>\n",
       "      <td>21.78</td>\n",
       "      <td>5.94</td>\n",
       "      <td>Carlos Soltero</td>\n",
       "      <td>Nunavut</td>\n",
       "      <td>Nunavut</td>\n",
       "      <td>Consumer</td>\n",
       "      <td>Office Supplies</td>\n",
       "      <td>Appliances</td>\n",
       "      <td>Holmes HEPA Air Purifier</td>\n",
       "      <td>Medium Box</td>\n",
       "      <td>0.50</td>\n",
       "      <td>2010-08-30</td>\n",
       "    </tr>\n",
       "  </tbody>\n",
       "</table>\n",
       "</div>"
      ],
      "text/plain": [
       "   Row ID  Order ID Order Date    ...     Product Container  Product Base Margin  Ship Date\n",
       "0       1         3 2010-10-13    ...             Large Box                 0.80 2010-10-20\n",
       "1      49       293 2012-10-01    ...            Jumbo Drum                 0.58 2012-10-02\n",
       "2      50       293 2012-10-01    ...             Small Box                 0.39 2012-10-03\n",
       "3      80       483 2011-07-10    ...             Small Box                 0.58 2011-07-12\n",
       "4      85       515 2010-08-28    ...            Medium Box                 0.50 2010-08-30\n",
       "\n",
       "[5 rows x 21 columns]"
      ]
     },
     "execution_count": 5,
     "metadata": {},
     "output_type": "execute_result"
    }
   ],
   "source": [
    "orders.head()"
   ]
  },
  {
   "cell_type": "code",
   "execution_count": 10,
   "metadata": {},
   "outputs": [],
   "source": [
    "%matplotlib inline\n",
    "plt.rc('figure',figsize = (10,7))"
   ]
  },
  {
   "cell_type": "code",
   "execution_count": 11,
   "metadata": {},
   "outputs": [
    {
     "data": {
      "text/plain": [
       "[<matplotlib.lines.Line2D at 0x2262accab00>]"
      ]
     },
     "execution_count": 11,
     "metadata": {},
     "output_type": "execute_result"
    },
    {
     "data": {
      "image/png": "[encoded data removed]",
      "text/plain": [
       "<Figure size 720x504 with 1 Axes>"
      ]
     },
     "metadata": {
      "needs_background": "light"
     },
     "output_type": "display_data"
    }
   ],
   "source": [
    "plt.plot(orders.Sales)"
   ]
  },
  {
   "cell_type": "code",
   "execution_count": 12,
   "metadata": {},
   "outputs": [
    {
     "data": {
      "text/plain": [
       "'file://C:\\\\Users\\\\ashwi\\\\Desktop\\\\Ashwin\\\\Data_mining_Concepts\\\\temp-plot.html'"
      ]
     },
     "execution_count": 12,
     "metadata": {},
     "output_type": "execute_result"
    }
   ],
   "source": [
    "pyo.plot([{'x':orders.index,'y':orders.Sales}])"
   ]
  },
  {
   "cell_type": "code",
   "execution_count": 15,
   "metadata": {},
   "outputs": [],
   "source": [
    "orders_sp = orders[['Sales','Profit']]"
   ]
  },
  {
   "cell_type": "code",
   "execution_count": 18,
   "metadata": {},
   "outputs": [
    {
     "data": {
      "text/html": [
       "<div>\n",
       "<style scoped>\n",
       "    .dataframe tbody tr th:only-of-type {\n",
       "        vertical-align: middle;\n",
       "    }\n",
       "\n",
       "    .dataframe tbody tr th {\n",
       "        vertical-align: top;\n",
       "    }\n",
       "\n",
       "    .dataframe thead th {\n",
       "        text-align: right;\n",
       "    }\n",
       "</style>\n",
       "<table border=\"1\" class=\"dataframe\">\n",
       "  <thead>\n",
       "    <tr style=\"text-align: right;\">\n",
       "      <th></th>\n",
       "      <th>Sales</th>\n",
       "      <th>Profit</th>\n",
       "    </tr>\n",
       "  </thead>\n",
       "  <tbody>\n",
       "    <tr>\n",
       "      <th>0</th>\n",
       "      <td>261.5400</td>\n",
       "      <td>-213.2500</td>\n",
       "    </tr>\n",
       "    <tr>\n",
       "      <th>1</th>\n",
       "      <td>10123.0200</td>\n",
       "      <td>457.8100</td>\n",
       "    </tr>\n",
       "    <tr>\n",
       "      <th>2</th>\n",
       "      <td>244.5700</td>\n",
       "      <td>46.7075</td>\n",
       "    </tr>\n",
       "    <tr>\n",
       "      <th>3</th>\n",
       "      <td>4965.7595</td>\n",
       "      <td>1198.9710</td>\n",
       "    </tr>\n",
       "    <tr>\n",
       "      <th>4</th>\n",
       "      <td>394.2700</td>\n",
       "      <td>30.9400</td>\n",
       "    </tr>\n",
       "  </tbody>\n",
       "</table>\n",
       "</div>"
      ],
      "text/plain": [
       "        Sales     Profit\n",
       "0    261.5400  -213.2500\n",
       "1  10123.0200   457.8100\n",
       "2    244.5700    46.7075\n",
       "3   4965.7595  1198.9710\n",
       "4    394.2700    30.9400"
      ]
     },
     "execution_count": 18,
     "metadata": {},
     "output_type": "execute_result"
    }
   ],
   "source": [
    "orders_sp.head()"
   ]
  },
  {
   "cell_type": "code",
   "execution_count": 26,
   "metadata": {},
   "outputs": [
    {
     "data": {
      "text/plain": [
       "'file://C:\\\\Users\\\\ashwi\\\\Desktop\\\\Ashwin\\\\Data_mining_Concepts\\\\temp-plot.html'"
      ]
     },
     "execution_count": 26,
     "metadata": {},
     "output_type": "execute_result"
    }
   ],
   "source": [
    "pyo.plot([{'x':orders_sp.index,'y':orders_sp[col]}for col in orders_sp])"
   ]
  },
  {
   "cell_type": "code",
   "execution_count": 34,
   "metadata": {},
   "outputs": [
    {
     "data": {
      "text/plain": [
       "[0         261.5400\n",
       " 1       10123.0200\n",
       " 2         244.5700\n",
       " 3        4965.7595\n",
       " 4         394.2700\n",
       " 5         146.6900\n",
       " 6          93.5400\n",
       " 7         905.0800\n",
       " 8        2781.8200\n",
       " 9         228.4100\n",
       " 10        196.8500\n",
       " 11        124.5600\n",
       " 12        716.8400\n",
       " 13       1474.3300\n",
       " 14         80.6100\n",
       " 15       1815.4900\n",
       " 16        248.2600\n",
       " 17       4462.2300\n",
       " 18        663.7840\n",
       " 19        834.9040\n",
       " 20       2480.9205\n",
       " 21         59.0300\n",
       " 22         97.4800\n",
       " 23        511.8300\n",
       " 24        184.9900\n",
       " 25         80.9000\n",
       " 26         67.2400\n",
       " 27      12028.2300\n",
       " 28        370.4800\n",
       " 29        278.0000\n",
       "            ...    \n",
       " 8369       22.8900\n",
       " 8370      271.8500\n",
       " 8371    12719.7000\n",
       " 8372      109.7800\n",
       " 8373      561.6600\n",
       " 8374     1851.6200\n",
       " 8375     2453.3000\n",
       " 8376      147.0200\n",
       " 8377     1558.9425\n",
       " 8378      257.3900\n",
       " 8379      163.5400\n",
       " 8380     2390.5400\n",
       " 8381     4644.8700\n",
       " 8382       38.9600\n",
       " 8383      978.4000\n",
       " 8384     5126.4180\n",
       " 8385       82.1200\n",
       " 8386       22.8500\n",
       " 8387    12007.0500\n",
       " 8388     5347.9875\n",
       " 8389      322.4700\n",
       " 8390     1488.6600\n",
       " 8391     2200.6400\n",
       " 8392     1041.6600\n",
       " 8393    10071.0900\n",
       " 8394     1294.0400\n",
       " 8395      392.5700\n",
       " 8396      823.7800\n",
       " 8397      469.8375\n",
       " 8398     2026.0100\n",
       " Name: Sales, Length: 8399, dtype: float64, 0       -213.2500\n",
       " 1        457.8100\n",
       " 2         46.7075\n",
       " 3       1198.9710\n",
       " 4         30.9400\n",
       " 5          4.4300\n",
       " 6        -54.0385\n",
       " 7        127.7000\n",
       " 8       -695.2600\n",
       " 9       -226.3600\n",
       " 10      -166.8500\n",
       " 11       -14.3300\n",
       " 12       134.7200\n",
       " 13       114.4600\n",
       " 14        -4.7150\n",
       " 15       782.9100\n",
       " 16        93.8000\n",
       " 17       440.7200\n",
       " 18      -481.0410\n",
       " 19       -11.6820\n",
       " 20       313.5780\n",
       " 21        26.9200\n",
       " 22        -5.7700\n",
       " 23      -172.8795\n",
       " 24      -144.5500\n",
       " 25         5.7600\n",
       " 26         4.9000\n",
       " 27      -547.6100\n",
       " 28        -5.4500\n",
       " 29        41.6700\n",
       "           ...    \n",
       " 8369      -2.6565\n",
       " 8370     109.1900\n",
       " 8371    -545.8200\n",
       " 8372       4.4800\n",
       " 8373    -111.3315\n",
       " 8374    -220.8400\n",
       " 8375    -111.4000\n",
       " 8376     -77.0300\n",
       " 8377     548.4420\n",
       " 8378    -121.9100\n",
       " 8379     -95.0590\n",
       " 8380     756.1000\n",
       " 8381   -1291.3900\n",
       " 8382       0.3700\n",
       " 8383    -211.5800\n",
       " 8384    1557.6390\n",
       " 8385    -121.5895\n",
       " 8386       0.8800\n",
       " 8387    2713.9500\n",
       " 8388    1332.4410\n",
       " 8389      72.2800\n",
       " 8390     385.3700\n",
       " 8391    -514.1800\n",
       " 8392     480.5305\n",
       " 8393    1977.6900\n",
       " 8394    -323.1800\n",
       " 8395      22.2500\n",
       " 8396     343.0500\n",
       " 8397    -159.2360\n",
       " 8398     580.4300\n",
       " Name: Profit, Length: 8399, dtype: float64]"
      ]
     },
     "execution_count": 34,
     "metadata": {},
     "output_type": "execute_result"
    }
   ],
   "source": [
    "[orders_sp[col] for col in orders_sp.columns]"
   ]
  },
  {
   "cell_type": "code",
   "execution_count": null,
   "metadata": {},
   "outputs": [],
   "source": []
  }
 ],
 "metadata": {
  "kernelspec": {
   "display_name": "Python 3",
   "language": "python",
   "name": "python3"
  },
  "language_info": {
   "codemirror_mode": {
    "name": "ipython",
    "version": 3
   },
   "file_extension": ".py",
   "mimetype": "text/x-python",
   "name": "python",
   "nbconvert_exporter": "python",
   "pygments_lexer": "ipython3",
   "version": "3.7.0"
  }
 },
 "nbformat": 4,
 "nbformat_minor": 2
}
